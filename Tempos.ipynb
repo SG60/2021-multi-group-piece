{
 "cells": [
  {
   "cell_type": "markdown",
   "metadata": {
    "colab_type": "text",
    "id": "view-in-github"
   },
   "source": [
    "<a href=\"https://colab.research.google.com/github/SG60/2021-multi-group-piece/blob/main/Tempos.ipynb\" target=\"_parent\"><img src=\"https://colab.research.google.com/assets/colab-badge.svg\" alt=\"Open In Colab\"/></a>"
   ]
  },
  {
   "cell_type": "markdown",
   "metadata": {
    "id": "VSyKJN8dnb6j",
    "tags": []
   },
   "source": [
    "# Basic Setup"
   ]
  },
  {
   "cell_type": "code",
   "execution_count": 1,
   "metadata": {
    "colab": {
     "base_uri": "https://localhost:8080/",
     "height": 221
    },
    "collapsed": true,
    "id": "pacUyi3eKdQX",
    "jupyter": {
     "outputs_hidden": true,
     "source_hidden": true
    },
    "outputId": "afa42a00-e7f9-4af4-b740-0dbfa2e91a6d",
    "tags": []
   },
   "outputs": [
    {
     "data": {
      "text/html": [
       "\n",
       "  <style>\n",
       "    pre {\n",
       "        white-space: pre-wrap;\n",
       "    }\n",
       "  </style>\n",
       "  "
      ],
      "text/plain": [
       "<IPython.core.display.HTML object>"
      ]
     },
     "metadata": {},
     "output_type": "display_data"
    },
    {
     "name": "stdout",
     "output_type": "stream",
     "text": [
      "IPython console for SymPy 1.8 (Python 3.9.2-64-bit) (ground types: python)\n",
      "\n",
      "These commands were executed:\n",
      ">>> from __future__ import division\n",
      ">>> from sympy import *\n",
      ">>> x, y, z, t = symbols('x y z t')\n",
      ">>> k, m, n = symbols('k m n', integer=True)\n",
      ">>> f, g, h = symbols('f g h', cls=Function)\n",
      ">>> init_printing()\n",
      "\n",
      "Documentation can be found at https://docs.sympy.org/1.8/\n",
      "\n"
     ]
    }
   ],
   "source": [
    "from IPython.display import HTML, display\n",
    "\n",
    "def set_css():\n",
    "  display(HTML('''\n",
    "  <style>\n",
    "    pre {\n",
    "        white-space: pre-wrap;\n",
    "    }\n",
    "  </style>\n",
    "  '''))\n",
    "get_ipython().events.register('pre_run_cell', set_css)\n",
    "\n",
    "from sympy import init_session\n",
    "init_session()"
   ]
  },
  {
   "cell_type": "code",
   "execution_count": 2,
   "metadata": {
    "colab": {
     "base_uri": "https://localhost:8080/",
     "height": 17
    },
    "id": "yeIJhWt4lmWX",
    "jupyter": {
     "source_hidden": true
    },
    "outputId": "236ae848-79d6-4b91-f75f-fddc270a96f5",
    "tags": []
   },
   "outputs": [
    {
     "data": {
      "text/html": [
       "\n",
       "  <style>\n",
       "    pre {\n",
       "        white-space: pre-wrap;\n",
       "    }\n",
       "  </style>\n",
       "  "
      ],
      "text/plain": [
       "<IPython.core.display.HTML object>"
      ]
     },
     "metadata": {},
     "output_type": "display_data"
    }
   ],
   "source": [
    "# Tool for custom rounding\n",
    "from bisect import bisect_left\n",
    "\n",
    "class CustomRound:\n",
    "\n",
    "    def __init__(self,iterable):\n",
    "        self.data = sorted(iterable)\n",
    "\n",
    "    def __call__(self,x):\n",
    "        data = self.data\n",
    "        ndata = len(data)\n",
    "        idx = bisect_left(data,x)\n",
    "        if idx <= 0:\n",
    "            return data[0]\n",
    "        elif idx >= ndata:\n",
    "            return data[ndata-1]\n",
    "        x0 = data[idx-1]\n",
    "        x1 = data[idx]\n",
    "        if abs(x-x0) < abs(x-x1):\n",
    "            return x0\n",
    "        return x1\n",
    "\n",
    "custom_round_values_base = [0, 1/5,1/4,1/3,2/5,1/2,3/5,2/3,3/4,4/5]\n",
    "custom_round_values = [i+j for i in range(20) for j in custom_round_values_base]\n",
    "custom_round = CustomRound(custom_round_values)"
   ]
  },
  {
   "cell_type": "markdown",
   "metadata": {
    "id": "CkEZ_CLRXTkF"
   },
   "source": [
    "# assigments"
   ]
  },
  {
   "cell_type": "code",
   "execution_count": 3,
   "metadata": {
    "colab": {
     "base_uri": "https://localhost:8080/",
     "height": 17
    },
    "id": "uQUh_YL6XQdU",
    "outputId": "955ec9db-4442-4db7-fdab-1eba919733af"
   },
   "outputs": [
    {
     "data": {
      "text/html": [
       "\n",
       "  <style>\n",
       "    pre {\n",
       "        white-space: pre-wrap;\n",
       "    }\n",
       "  </style>\n",
       "  "
      ],
      "text/plain": [
       "<IPython.core.display.HTML object>"
      ]
     },
     "metadata": {},
     "output_type": "display_data"
    }
   ],
   "source": [
    "a, a1, b, b1, c, c1, s, t = symbols('a:2 b:2 c:2 s t')"
   ]
  },
  {
   "cell_type": "markdown",
   "metadata": {
    "id": "FSN2ZttFEe8A"
   },
   "source": [
    "# Ramp code"
   ]
  },
  {
   "cell_type": "code",
   "execution_count": 4,
   "metadata": {
    "colab": {
     "base_uri": "https://localhost:8080/",
     "height": 17
    },
    "id": "a8l4dRchz_nt",
    "outputId": "76325f59-e545-4d4f-e933-889063c3d999"
   },
   "outputs": [
    {
     "data": {
      "text/html": [
       "\n",
       "  <style>\n",
       "    pre {\n",
       "        white-space: pre-wrap;\n",
       "    }\n",
       "  </style>\n",
       "  "
      ],
      "text/plain": [
       "<IPython.core.display.HTML object>"
      ]
     },
     "metadata": {},
     "output_type": "display_data"
    }
   ],
   "source": [
    "def ramp(start_tempo,end_tempo,total_beats,bound_beat):\n",
    "  '''This integral is equal to the timecode at the bound_beat.'''\n",
    "  return integrate(1/(start_tempo/60+(x/total_beats)*(S(end_tempo)/60-start_tempo/60)),(x,0,bound_beat))"
   ]
  },
  {
   "cell_type": "code",
   "execution_count": 5,
   "metadata": {
    "colab": {
     "base_uri": "https://localhost:8080/",
     "height": 115
    },
    "id": "pcSTL-cnTGDs",
    "outputId": "e8e2c2e7-f1f4-4501-a770-f89bc34251d9"
   },
   "outputs": [
    {
     "data": {
      "text/html": [
       "\n",
       "  <style>\n",
       "    pre {\n",
       "        white-space: pre-wrap;\n",
       "    }\n",
       "  </style>\n",
       "  "
      ],
      "text/plain": [
       "<IPython.core.display.HTML object>"
      ]
     },
     "metadata": {},
     "output_type": "display_data"
    },
    {
     "data": {
      "text/latex": [
       "$\\displaystyle \\frac{60 c_{0} \\log{\\left(- a_{0} c_{0} \\right)}}{a_{0} - b_{0}} - \\frac{60 c_{0} \\log{\\left(- a_{0} c_{0} + 20 a_{0} - 20 b_{0} \\right)}}{a_{0} - b_{0}} + \\frac{60 c_{1} \\log{\\left(- b_{0} c_{1} \\right)}}{b_{0} - b_{1}} - \\frac{60 c_{1} \\log{\\left(- b_{0} c_{1} + s \\left(b_{0} - b_{1}\\right) \\right)}}{b_{0} - b_{1}} = t$"
      ],
      "text/plain": [
       "60⋅c₀⋅log(-a₀⋅c₀)   60⋅c₀⋅log(-a₀⋅c₀ + 20⋅a₀ - 20⋅b₀)   60⋅c₁⋅log(-b₀⋅c₁)   60\n",
       "───────────────── - ───────────────────────────────── + ───────────────── - ──\n",
       "     a₀ - b₀                     a₀ - b₀                     b₀ - b₁          \n",
       "\n",
       "⋅c₁⋅log(-b₀⋅c₁ + s⋅(b₀ - b₁))    \n",
       "───────────────────────────── = t\n",
       "          b₀ - b₁                "
      ]
     },
     "metadata": {},
     "output_type": "display_data"
    },
    {
     "data": {
      "text/latex": [
       "$\\displaystyle f{\\left(a_{0},b_{0},c_{0},20 \\right)} + f{\\left(b_{0},b_{1},c_{1},s \\right)} = t$"
      ],
      "text/plain": [
       "f(a₀, b₀, c₀, 20) + f(b₀, b₁, c₁, s) = t"
      ]
     },
     "metadata": {},
     "output_type": "display_data"
    },
    {
     "data": {
      "text/latex": [
       "$\\displaystyle \\frac{60 c_{0} \\log{\\left(- a_{0} c_{0} \\right)}}{a_{0} - b_{0}} - \\frac{60 c_{0} \\log{\\left(- a_{0} c_{0} + 20 a_{0} - 20 b_{0} \\right)}}{a_{0} - b_{0}} + \\frac{60 c_{1} \\log{\\left(- b_{0} c_{1} \\right)}}{b_{0} - b_{1}} - \\frac{60 c_{1} \\log{\\left(- b_{0} c_{1} + s \\left(b_{0} - b_{1}\\right) \\right)}}{b_{0} - b_{1}} = t$"
      ],
      "text/plain": [
       "60⋅c₀⋅log(-a₀⋅c₀)   60⋅c₀⋅log(-a₀⋅c₀ + 20⋅a₀ - 20⋅b₀)   60⋅c₁⋅log(-b₀⋅c₁)   60\n",
       "───────────────── - ───────────────────────────────── + ───────────────── - ──\n",
       "     a₀ - b₀                     a₀ - b₀                     b₀ - b₁          \n",
       "\n",
       "⋅c₁⋅log(-b₀⋅c₁ + s⋅(b₀ - b₁))    \n",
       "───────────────────────────── = t\n",
       "          b₀ - b₁                "
      ]
     },
     "metadata": {},
     "output_type": "display_data"
    }
   ],
   "source": [
    "tempoeq2_version_using_ramp = Eq(ramp(a,b,c,20) + ramp(b,b1,c1,s), t)\n",
    "display(tempoeq2_version_using_ramp) # this is equal to tempoeq2\n",
    "# or another way, starting with an unknown function:\n",
    "test1 = Eq(f(a,b,c,20)+f(b,b1,c1,s),t)\n",
    "display(test1)\n",
    "display(test1.replace(f,ramp))"
   ]
  },
  {
   "cell_type": "markdown",
   "metadata": {
    "id": "JoVSpR7pnju0"
   },
   "source": [
    "#Wind up+down ramp in A section"
   ]
  },
  {
   "cell_type": "markdown",
   "metadata": {
    "id": "dzxO9ZT8nmak"
   },
   "source": [
    "##Up Ramp"
   ]
  },
  {
   "cell_type": "code",
   "execution_count": 6,
   "metadata": {
    "colab": {
     "base_uri": "https://localhost:8080/"
    },
    "id": "yuyDaSI1IfeU",
    "outputId": "b48cf4c8-8cee-45f5-c158-5f225d5b6739"
   },
   "outputs": [
    {
     "data": {
      "text/html": [
       "\n",
       "  <style>\n",
       "    pre {\n",
       "        white-space: pre-wrap;\n",
       "    }\n",
       "  </style>\n",
       "  "
      ],
      "text/plain": [
       "<IPython.core.display.HTML object>"
      ]
     },
     "metadata": {},
     "output_type": "display_data"
    },
    {
     "data": {
      "text/latex": [
       "$\\displaystyle \\frac{60 c_{0} \\log{\\left(- a_{0} c_{0} \\right)}}{a_{0} - b_{0}} - \\frac{60 c_{0} \\log{\\left(- a_{0} c_{0} + s \\left(a_{0} - b_{0}\\right) \\right)}}{a_{0} - b_{0}} = t$"
      ],
      "text/plain": [
       "60⋅c₀⋅log(-a₀⋅c₀)   60⋅c₀⋅log(-a₀⋅c₀ + s⋅(a₀ - b₀))    \n",
       "───────────────── - ─────────────────────────────── = t\n",
       "     a₀ - b₀                    a₀ - b₀                "
      ]
     },
     "execution_count": 6,
     "metadata": {},
     "output_type": "execute_result"
    }
   ],
   "source": [
    "a, a1, b, b1, c, c1, s, t = symbols('a:2 b:2 c:2 s t')\n",
    "# a = start tempo of ramp\n",
    "# b = end tempo of ramp\n",
    "# c = length of ramp in beats\n",
    "# s = beat we are interested in\n",
    "# t = timecode of that beat\n",
    "tempoeq = Eq(integrate(1/(a/60+(x/c)*(b/60-a/60)),(x,0,s)),t)\n",
    "tempoeq"
   ]
  },
  {
   "cell_type": "code",
   "execution_count": 7,
   "metadata": {
    "colab": {
     "base_uri": "https://localhost:8080/"
    },
    "id": "CocA-YZDrbiI",
    "outputId": "398c71e2-40d3-4aed-ea39-0478b208bde9"
   },
   "outputs": [
    {
     "data": {
      "text/html": [
       "\n",
       "  <style>\n",
       "    pre {\n",
       "        white-space: pre-wrap;\n",
       "    }\n",
       "  </style>\n",
       "  "
      ],
      "text/plain": [
       "<IPython.core.display.HTML object>"
      ]
     },
     "metadata": {},
     "output_type": "display_data"
    },
    {
     "data": {
      "text/latex": [
       "$\\displaystyle \\int\\limits_{0}^{s} \\frac{1}{\\frac{a_{0}}{60} + \\frac{x \\left(- \\frac{a_{0}}{60} + \\frac{b_{0}}{60}\\right)}{c_{0}}}\\, dx = t$"
      ],
      "text/plain": [
       "s                          \n",
       "⌠                          \n",
       "⎮         1                \n",
       "⎮ ────────────────── dx = t\n",
       "⎮        ⎛  a₀   b₀⎞       \n",
       "⎮      x⋅⎜- ── + ──⎟       \n",
       "⎮ a₀     ⎝  60   60⎠       \n",
       "⎮ ── + ─────────────       \n",
       "⎮ 60         c₀            \n",
       "⌡                          \n",
       "0                          "
      ]
     },
     "execution_count": 7,
     "metadata": {},
     "output_type": "execute_result"
    }
   ],
   "source": [
    "Eq(Integral(1/(a/60+(x/c)*(b/60-a/60)),(x,0,s)),t)"
   ]
  },
  {
   "cell_type": "code",
   "execution_count": 8,
   "metadata": {
    "colab": {
     "base_uri": "https://localhost:8080/"
    },
    "id": "MY4lqYuYTNjj",
    "outputId": "a74e471d-eb7b-4bdc-f5dc-06cd4b46c8f7"
   },
   "outputs": [
    {
     "data": {
      "text/html": [
       "\n",
       "  <style>\n",
       "    pre {\n",
       "        white-space: pre-wrap;\n",
       "    }\n",
       "  </style>\n",
       "  "
      ],
      "text/plain": [
       "<IPython.core.display.HTML object>"
      ]
     },
     "metadata": {},
     "output_type": "display_data"
    },
    {
     "data": {
      "text/latex": [
       "$\\displaystyle \\frac{a_{0} c_{0} + e^{\\frac{\\left(a_{0} - b_{0}\\right) \\left(\\frac{60 c_{0} \\log{\\left(- a_{0} c_{0} \\right)}}{a_{0} - b_{0}} - t\\right)}{60 c_{0}}}}{a_{0} - b_{0}}$"
      ],
      "text/plain": [
       "                   ⎛60⋅c₀⋅log(-a₀⋅c₀)    ⎞\n",
       "         (a₀ - b₀)⋅⎜───────────────── - t⎟\n",
       "                   ⎝     a₀ - b₀         ⎠\n",
       "         ─────────────────────────────────\n",
       "                       60⋅c₀              \n",
       "a₀⋅c₀ + ℯ                                 \n",
       "──────────────────────────────────────────\n",
       "                 a₀ - b₀                  "
      ]
     },
     "metadata": {},
     "output_type": "display_data"
    }
   ],
   "source": [
    "s_solved = solveset(tempoeq,s).args[0]\n",
    "display(s_solved)"
   ]
  },
  {
   "cell_type": "code",
   "execution_count": 9,
   "metadata": {
    "colab": {
     "base_uri": "https://localhost:8080/"
    },
    "id": "oRJzwbt04SJs",
    "outputId": "f00f81af-014e-494b-b226-3b20d1e80148"
   },
   "outputs": [
    {
     "data": {
      "text/html": [
       "\n",
       "  <style>\n",
       "    pre {\n",
       "        white-space: pre-wrap;\n",
       "    }\n",
       "  </style>\n",
       "  "
      ],
      "text/plain": [
       "<IPython.core.display.HTML object>"
      ]
     },
     "metadata": {},
     "output_type": "display_data"
    }
   ],
   "source": [
    "#@title Values for steady part\n",
    "number_of_beats = 13 #@param {type:\"integer\"}\n",
    "steady_tempo = 96 #@param {type:\"integer\"}"
   ]
  },
  {
   "cell_type": "code",
   "execution_count": 10,
   "metadata": {
    "colab": {
     "base_uri": "https://localhost:8080/"
    },
    "id": "acZBH-aq4yaK",
    "outputId": "88efb93c-898b-4d67-fa35-86be42d35c3b"
   },
   "outputs": [
    {
     "data": {
      "text/html": [
       "\n",
       "  <style>\n",
       "    pre {\n",
       "        white-space: pre-wrap;\n",
       "    }\n",
       "  </style>\n",
       "  "
      ],
      "text/plain": [
       "<IPython.core.display.HTML object>"
      ]
     },
     "metadata": {},
     "output_type": "display_data"
    }
   ],
   "source": [
    "#@title Values for ramp part\n",
    "start_tempo = 96 #@param {type:\"integer\"}\n",
    "end_tempo = 240 #@param {type:\"integer\"}\n",
    "length_in_beats = 20 #@param {type:\"integer\"}"
   ]
  },
  {
   "cell_type": "code",
   "execution_count": 11,
   "metadata": {
    "colab": {
     "base_uri": "https://localhost:8080/"
    },
    "id": "sROOBAlRvr_g",
    "outputId": "2ce1d792-296d-4aa2-cc9d-9e5a94c8da73"
   },
   "outputs": [
    {
     "data": {
      "text/html": [
       "\n",
       "  <style>\n",
       "    pre {\n",
       "        white-space: pre-wrap;\n",
       "    }\n",
       "  </style>\n",
       "  "
      ],
      "text/plain": [
       "<IPython.core.display.HTML object>"
      ]
     },
     "metadata": {},
     "output_type": "display_data"
    },
    {
     "name": "stdout",
     "output_type": "stream",
     "text": [
      "0 0\n",
      "1 1.03846\n",
      "2 2.15779\n",
      "3 3.36430\n",
      "4 4.66478\n",
      "5 6.06655\n",
      "6 7.57750\n",
      "7 9.20612\n",
      "8 10.9616\n",
      "9 12.8538\n",
      "10 14.8933\n",
      "11 17.0917\n",
      "12 19.4614\n"
     ]
    }
   ],
   "source": [
    "temposteady = steady_tempo\n",
    "beatlength = S(60)/steady_tempo\n",
    "#beats = [0, S(1)/3, 2, 4]\n",
    "beats = range(number_of_beats)\n",
    "beattimecodes_up_ramp = [beatlength*i for i in beats]\n",
    "outbeats = [s_solved.n(6,{a: start_tempo, b: end_tempo, c: length_in_beats, t: i},chop=True) for i in beattimecodes_up_ramp]\n",
    "for i in range(len(outbeats)):\n",
    "  print(beats[i], outbeats[i])"
   ]
  },
  {
   "cell_type": "code",
   "execution_count": 12,
   "metadata": {
    "colab": {
     "base_uri": "https://localhost:8080/"
    },
    "id": "s0whC0B12col",
    "outputId": "ed1c5a43-9ac4-4b7b-db83-38ca81b0cfc4"
   },
   "outputs": [
    {
     "data": {
      "text/html": [
       "\n",
       "  <style>\n",
       "    pre {\n",
       "        white-space: pre-wrap;\n",
       "    }\n",
       "  </style>\n",
       "  "
      ],
      "text/plain": [
       "<IPython.core.display.HTML object>"
      ]
     },
     "metadata": {},
     "output_type": "display_data"
    },
    {
     "name": "stdout",
     "output_type": "stream",
     "text": [
      "0.2 0.25 0.3333333333333333 0.4 0.5 0.6 0.6666666666666666 0.75 0.8\n"
     ]
    }
   ],
   "source": [
    "print(1/5,1/4,1/3,2/5,1/2,3/5,2/3,3/4,4/5)"
   ]
  },
  {
   "cell_type": "code",
   "execution_count": 13,
   "metadata": {
    "colab": {
     "base_uri": "https://localhost:8080/"
    },
    "id": "1AK2TZB5IQFz",
    "outputId": "941fc5bc-56be-47b4-89f8-dd691e1a3c86"
   },
   "outputs": [
    {
     "data": {
      "text/html": [
       "\n",
       "  <style>\n",
       "    pre {\n",
       "        white-space: pre-wrap;\n",
       "    }\n",
       "  </style>\n",
       "  "
      ],
      "text/plain": [
       "<IPython.core.display.HTML object>"
      ]
     },
     "metadata": {},
     "output_type": "display_data"
    },
    {
     "data": {
      "text/latex": [
       "$\\displaystyle 7.5$"
      ],
      "text/plain": [
       "7.50000000000000"
      ]
     },
     "metadata": {},
     "output_type": "display_data"
    },
    {
     "data": {
      "text/latex": [
       "$\\displaystyle \\left[ 0, \\  0.625, \\  1.25, \\  1.875, \\  2.5, \\  3.125, \\  3.75, \\  4.375, \\  5.0, \\  5.625, \\  6.25, \\  6.875, \\  7.5\\right]$"
      ],
      "text/plain": [
       "[0, 0.625, 1.25, 1.875, 2.5, 3.125, 3.75, 4.375, 5.0, 5.625, 6.25, 6.875, 7.5]"
      ]
     },
     "metadata": {},
     "output_type": "display_data"
    }
   ],
   "source": [
    "display(beattimecodes_up_ramp[12].n())\n",
    "display([i.n() for i in beattimecodes_up_ramp])"
   ]
  },
  {
   "cell_type": "code",
   "execution_count": 14,
   "metadata": {
    "colab": {
     "base_uri": "https://localhost:8080/"
    },
    "id": "2Y_GIxPUJHpY",
    "outputId": "a980e5bc-b4dd-4ce6-defb-7c66a92b7973"
   },
   "outputs": [
    {
     "data": {
      "text/html": [
       "\n",
       "  <style>\n",
       "    pre {\n",
       "        white-space: pre-wrap;\n",
       "    }\n",
       "  </style>\n",
       "  "
      ],
      "text/plain": [
       "<IPython.core.display.HTML object>"
      ]
     },
     "metadata": {},
     "output_type": "display_data"
    },
    {
     "data": {
      "text/latex": [
       "$\\displaystyle \\left\\{7.63576\\right\\}$"
      ],
      "text/plain": [
       "{7.63576}"
      ]
     },
     "execution_count": 14,
     "metadata": {},
     "output_type": "execute_result"
    }
   ],
   "source": [
    "# Timecode at beat 20\n",
    "solveset(tempoeq.subs({a: start_tempo, b: end_tempo, c: length_in_beats, s:20}),t).n(6)"
   ]
  },
  {
   "cell_type": "markdown",
   "metadata": {
    "id": "DzLdtjCVnqxG"
   },
   "source": [
    "##Down Ramp"
   ]
  },
  {
   "cell_type": "code",
   "execution_count": 15,
   "metadata": {
    "colab": {
     "base_uri": "https://localhost:8080/",
     "height": 120
    },
    "id": "BQi6KWgwKdcT",
    "outputId": "c7d4a0fb-d0b4-4924-9071-f5b47fb38903"
   },
   "outputs": [
    {
     "data": {
      "text/html": [
       "\n",
       "  <style>\n",
       "    pre {\n",
       "        white-space: pre-wrap;\n",
       "    }\n",
       "  </style>\n",
       "  "
      ],
      "text/plain": [
       "<IPython.core.display.HTML object>"
      ]
     },
     "metadata": {},
     "output_type": "display_data"
    },
    {
     "data": {
      "text/latex": [
       "$\\displaystyle \\int\\limits_{0}^{20} \\frac{1}{\\frac{a_{0}}{60} + \\frac{x \\left(- \\frac{a_{0}}{60} + \\frac{b_{0}}{60}\\right)}{c_{0}}}\\, dx + \\int\\limits_{0}^{s} \\frac{1}{\\frac{b_{0}}{60} + \\frac{x \\left(- \\frac{b_{0}}{60} + \\frac{b_{1}}{60}\\right)}{c_{1}}}\\, dx = t$"
      ],
      "text/plain": [
       "20                         s                          \n",
       "⌠                          ⌠                          \n",
       "⎮          1               ⎮         1                \n",
       "⎮  ────────────────── dx + ⎮ ────────────────── dx = t\n",
       "⎮         ⎛  a₀   b₀⎞      ⎮        ⎛  b₀   b₁⎞       \n",
       "⎮       x⋅⎜- ── + ──⎟      ⎮      x⋅⎜- ── + ──⎟       \n",
       "⎮  a₀     ⎝  60   60⎠      ⎮ b₀     ⎝  60   60⎠       \n",
       "⎮  ── + ─────────────      ⎮ ── + ─────────────       \n",
       "⎮  60         c₀           ⎮ 60         c₁            \n",
       "⌡                          ⌡                          \n",
       "0                          0                          "
      ]
     },
     "metadata": {},
     "output_type": "display_data"
    },
    {
     "data": {
      "text/latex": [
       "$\\displaystyle \\frac{60 c_{0} \\log{\\left(- a_{0} c_{0} \\right)}}{a_{0} - b_{0}} - \\frac{60 c_{0} \\log{\\left(- a_{0} c_{0} + 20 a_{0} - 20 b_{0} \\right)}}{a_{0} - b_{0}} + \\frac{60 c_{1} \\log{\\left(- b_{0} c_{1} \\right)}}{b_{0} - b_{1}} - \\frac{60 c_{1} \\log{\\left(- b_{0} c_{1} + s \\left(b_{0} - b_{1}\\right) \\right)}}{b_{0} - b_{1}} = t$"
      ],
      "text/plain": [
       "60⋅c₀⋅log(-a₀⋅c₀)   60⋅c₀⋅log(-a₀⋅c₀ + 20⋅a₀ - 20⋅b₀)   60⋅c₁⋅log(-b₀⋅c₁)   60\n",
       "───────────────── - ───────────────────────────────── + ───────────────── - ──\n",
       "     a₀ - b₀                     a₀ - b₀                     b₀ - b₁          \n",
       "\n",
       "⋅c₁⋅log(-b₀⋅c₁ + s⋅(b₀ - b₁))    \n",
       "───────────────────────────── = t\n",
       "          b₀ - b₁                "
      ]
     },
     "metadata": {},
     "output_type": "display_data"
    }
   ],
   "source": [
    "# b1 = end tempo of down ramp\n",
    "# c1 = number of beats in down ramp\n",
    "tempoeq2_not_done = Eq(Integral(1/(a/60+(x/c)*(b/60-a/60)),(x,0,20))+Integral(1/(b/60+(x/c1)*(b1/60-b/60)),(x,0,s)),t)\n",
    "display(tempoeq2_not_done)\n",
    "tempoeq2 = tempoeq2_not_done.doit()\n",
    "display(tempoeq2)"
   ]
  },
  {
   "cell_type": "code",
   "execution_count": 16,
   "metadata": {
    "colab": {
     "base_uri": "https://localhost:8080/",
     "height": 281
    },
    "id": "ybp5oRGJNS7X",
    "outputId": "1b0eda39-f75b-4343-80d3-a35c1f679c2a"
   },
   "outputs": [
    {
     "data": {
      "text/html": [
       "\n",
       "  <style>\n",
       "    pre {\n",
       "        white-space: pre-wrap;\n",
       "    }\n",
       "  </style>\n",
       "  "
      ],
      "text/plain": [
       "<IPython.core.display.HTML object>"
      ]
     },
     "metadata": {},
     "output_type": "display_data"
    },
    {
     "data": {
      "text/latex": [
       "$\\displaystyle \\frac{64}{3} - \\frac{80 \\cdot 2^{\\frac{7}{16}} \\cdot 5^{\\frac{9}{16}} e^{- \\frac{3 t}{16}}}{3}$"
      ],
      "text/plain": [
       "                     -3⋅t \n",
       "                     ─────\n",
       "         7/16  9/16    16 \n",
       "64   80⋅2    ⋅5    ⋅ℯ     \n",
       "── - ─────────────────────\n",
       "3              3          "
      ]
     },
     "metadata": {},
     "output_type": "display_data"
    },
    {
     "data": {
      "text/latex": [
       "$\\displaystyle \\left[ 8.125, \\  8.75, \\  9.375, \\  10.0, \\  10.625, \\  11.25, \\  11.875, \\  12.5, \\  13.125, \\  13.75, \\  14.375, \\  15.0\\right]$"
      ],
      "text/plain": [
       "[8.125, 8.75, 9.375, 10.0, 10.625, 11.25, 11.875, 12.5, 13.125, 13.75, 14.375,\n",
       " 15.0]"
      ]
     },
     "metadata": {},
     "output_type": "display_data"
    },
    {
     "name": "stdout",
     "output_type": "stream",
     "text": [
      "13 1.86990 1.8\n",
      "14 4.02220 4\n",
      "15 5.93649 6\n",
      "16 7.63910 7.666666666666667\n",
      "17 9.15343 9.2\n",
      "18 10.5003 10.5\n",
      "19 11.6982 11.666666666666666\n",
      "20 12.7637 12.75\n",
      "21 13.7113 13.75\n",
      "22 14.5542 14.6\n",
      "23 15.3038 15.333333333333334\n",
      "24 15.9706 16\n"
     ]
    }
   ],
   "source": [
    "s2_solved = solveset(tempoeq2,s).args[0]\n",
    "#display(s2_solved.args[0])\n",
    "s2_solved_subbed = s2_solved.subs({a: 96, b: 240, c: 20, b1: 60, c1: 16})\n",
    "display(s2_solved_subbed)\n",
    "# values for slowing down ramp\n",
    "beats_down_ramp = range(13,floor(16/beatlength))\n",
    "beattimecodes_down_ramp = [beatlength*i for i in beats_down_ramp]\n",
    "display([i.n() for i in beattimecodes_down_ramp])\n",
    "outbeats_down_ramp = [s2_solved_subbed.n(6,{t: i},chop=True) for i in beattimecodes_down_ramp]\n",
    "for i in range(len(outbeats_down_ramp)):\n",
    "  print(beats_down_ramp[i],\n",
    "        outbeats_down_ramp[i],\n",
    "        custom_round(outbeats_down_ramp[i])\n",
    "        ) # beat values (from start of ramp)"
   ]
  },
  {
   "cell_type": "code",
   "execution_count": 17,
   "metadata": {
    "colab": {
     "base_uri": "https://localhost:8080/",
     "height": 37
    },
    "id": "JIHGjDRby1QH",
    "outputId": "c1e8399f-3054-4052-c007-32d5c0fa9714"
   },
   "outputs": [
    {
     "data": {
      "text/html": [
       "\n",
       "  <style>\n",
       "    pre {\n",
       "        white-space: pre-wrap;\n",
       "    }\n",
       "  </style>\n",
       "  "
      ],
      "text/plain": [
       "<IPython.core.display.HTML object>"
      ]
     },
     "metadata": {},
     "output_type": "display_data"
    },
    {
     "data": {
      "text/latex": [
       "$\\displaystyle 15.0293$"
      ],
      "text/plain": [
       "15.0293"
      ]
     },
     "execution_count": 17,
     "metadata": {},
     "output_type": "execute_result"
    }
   ],
   "source": [
    "#total length of both ramps in seconds:\n",
    "solveset(tempoeq2,t).args[0].subs({a: 96, b: 240, c: 20, b1: 60, c1: 16, s:16}).n(6)"
   ]
  },
  {
   "cell_type": "markdown",
   "metadata": {
    "id": "lc5ieYY8Ey2_"
   },
   "source": [
    "# New section"
   ]
  },
  {
   "cell_type": "code",
   "execution_count": 18,
   "metadata": {
    "colab": {
     "base_uri": "https://localhost:8080/",
     "height": 37
    },
    "id": "7rdfHD4lKfef",
    "outputId": "1846ab22-5794-4daf-c054-4983222a8529"
   },
   "outputs": [
    {
     "data": {
      "text/html": [
       "\n",
       "  <style>\n",
       "    pre {\n",
       "        white-space: pre-wrap;\n",
       "    }\n",
       "  </style>\n",
       "  "
      ],
      "text/plain": [
       "<IPython.core.display.HTML object>"
      ]
     },
     "metadata": {},
     "output_type": "display_data"
    },
    {
     "data": {
      "text/latex": [
       "$\\displaystyle 39.5500423920519$"
      ],
      "text/plain": [
       "39.5500423920519"
      ]
     },
     "execution_count": 18,
     "metadata": {},
     "output_type": "execute_result"
    }
   ],
   "source": [
    "# String accel section length in seconds\n",
    "ramp(60,180,9*4,9*4)*2"
   ]
  },
  {
   "cell_type": "markdown",
   "metadata": {
    "id": "WU-kOg_dEI0Z"
   },
   "source": [
    "# Tempo relations in piece"
   ]
  },
  {
   "cell_type": "code",
   "execution_count": 19,
   "metadata": {
    "colab": {
     "base_uri": "https://localhost:8080/",
     "height": 37
    },
    "id": "ZfCvs7-HEH_B",
    "outputId": "16de1539-7c27-4438-fd57-92241c77ff38"
   },
   "outputs": [
    {
     "data": {
      "text/html": [
       "\n",
       "  <style>\n",
       "    pre {\n",
       "        white-space: pre-wrap;\n",
       "    }\n",
       "  </style>\n",
       "  "
      ],
      "text/plain": [
       "<IPython.core.display.HTML object>"
      ]
     },
     "metadata": {},
     "output_type": "display_data"
    },
    {
     "data": {
      "text/latex": [
       "$\\displaystyle \\left[ 160.0, \\  128, \\  96.0, \\  240, \\  60, \\  128, \\  180, \\  90.0\\right]$"
      ],
      "text/plain": [
       "[160.0, 128, 96.0, 240, 60, 128, 180, 90.0]"
      ]
     },
     "metadata": {},
     "output_type": "display_data"
    }
   ],
   "source": [
    "# tempo\n",
    "tempolist = [128/0.8, 128]\n",
    "tempolist.append(tempolist[-1]*(3/4))\n",
    "tempolist.extend([240,60])\n",
    "tempolist.append(128)\n",
    "tempolist.append(180)\n",
    "tempolist.append(tempolist[-1]*0.5)\n",
    "display(tempolist)"
   ]
  },
  {
   "cell_type": "markdown",
   "metadata": {
    "id": "n_Qr0YHCWzKZ"
   },
   "source": [
    "# Middle Section"
   ]
  },
  {
   "cell_type": "code",
   "execution_count": 20,
   "metadata": {
    "colab": {
     "base_uri": "https://localhost:8080/",
     "height": 76
    },
    "id": "0MdjDJsYWysk",
    "outputId": "f9bbf89f-4c89-49e4-e8cc-c440dfee4810"
   },
   "outputs": [
    {
     "data": {
      "text/html": [
       "\n",
       "  <style>\n",
       "    pre {\n",
       "        white-space: pre-wrap;\n",
       "    }\n",
       "  </style>\n",
       "  "
      ],
      "text/plain": [
       "<IPython.core.display.HTML object>"
      ]
     },
     "metadata": {},
     "output_type": "display_data"
    },
    {
     "data": {
      "text/latex": [
       "$\\displaystyle f{\\left(180,90,116,s \\right)} = t$"
      ],
      "text/plain": [
       "f(180, 90, 116, s) = t"
      ]
     },
     "metadata": {},
     "output_type": "display_data"
    },
    {
     "name": "stdout",
     "output_type": "stream",
     "text": [
      "length of one downwards ramp in seconds:\n"
     ]
    },
    {
     "data": {
      "text/latex": [
       "$\\displaystyle 53.6 = t$"
      ],
      "text/plain": [
       "53.6 = t"
      ]
     },
     "metadata": {},
     "output_type": "display_data"
    }
   ],
   "source": [
    "# downwards ramp\n",
    "middle_ramp_1_total_length = (5+4+4+5+4+3+4)*4\n",
    "middle_ramp_1_f = Eq(f(180,90,middle_ramp_1_total_length,s),t)\n",
    "display(middle_ramp_1_f)\n",
    "middle_ramp_1 = middle_ramp_1_f.replace(f,ramp)\n",
    "print(\"length of one downwards ramp in seconds:\")\n",
    "display(middle_ramp_1.subs({s: middle_ramp_1_total_length}).n(3))"
   ]
  }
 ],
 "metadata": {
  "colab": {
   "authorship_tag": "ABX9TyMgRhLer2dUWkmGeosB+duM",
   "collapsed_sections": [
    "VSyKJN8dnb6j",
    "FSN2ZttFEe8A",
    "dzxO9ZT8nmak",
    "DzLdtjCVnqxG",
    "lc5ieYY8Ey2_"
   ],
   "include_colab_link": true,
   "name": "Tempos",
   "provenance": []
  },
  "kernelspec": {
   "display_name": "Python (multi-group-venv)",
   "language": "python",
   "name": "multi-group-venv"
  },
  "language_info": {
   "codemirror_mode": {
    "name": "ipython",
    "version": 3
   },
   "file_extension": ".py",
   "mimetype": "text/x-python",
   "name": "python",
   "nbconvert_exporter": "python",
   "pygments_lexer": "ipython3",
   "version": "3.9.2"
  },
  "toc-autonumbering": false,
  "toc-showcode": false,
  "toc-showmarkdowntxt": false,
  "toc-showtags": false
 },
 "nbformat": 4,
 "nbformat_minor": 4
}
