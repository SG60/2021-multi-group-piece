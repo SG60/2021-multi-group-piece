{
  "nbformat": 4,
  "nbformat_minor": 0,
  "metadata": {
    "colab": {
      "name": "Tempos",
      "provenance": [],
      "collapsed_sections": [
        "VSyKJN8dnb6j",
        "dzxO9ZT8nmak"
      ],
      "authorship_tag": "ABX9TyPEaGGeep903usMhpIa4+IS",
      "include_colab_link": true
    },
    "kernelspec": {
      "display_name": "Python 3",
      "name": "python3"
    }
  },
  "cells": [
    {
      "cell_type": "markdown",
      "metadata": {
        "id": "view-in-github",
        "colab_type": "text"
      },
      "source": [
        "<a href=\"https://colab.research.google.com/github/SG60/2021-multi-group-piece/blob/main/Tempos.ipynb\" target=\"_parent\"><img src=\"https://colab.research.google.com/assets/colab-badge.svg\" alt=\"Open In Colab\"/></a>"
      ]
    },
    {
      "cell_type": "markdown",
      "metadata": {
        "id": "VSyKJN8dnb6j"
      },
      "source": [
        "#Basic Setup"
      ]
    },
    {
      "cell_type": "code",
      "metadata": {
        "colab": {
          "base_uri": "https://localhost:8080/",
          "height": 425
        },
        "id": "6W4M51kK8ub_",
        "outputId": "dfd5acba-fa7f-493c-aea7-53c13f336511"
      },
      "source": [
        "# Install black + magic_command: %%black\n",
        "!pip install blackcellmagic"
      ],
      "execution_count": 27,
      "outputs": [
        {
          "output_type": "display_data",
          "data": {
            "text/html": [
              "\n",
              "  <style>\n",
              "    pre {\n",
              "        white-space: pre-wrap;\n",
              "    }\n",
              "  </style>\n",
              "  "
            ],
            "text/plain": [
              "<IPython.core.display.HTML object>"
            ]
          },
          "metadata": {
            "tags": []
          }
        },
        {
          "output_type": "stream",
          "text": [
            "Requirement already satisfied: blackcellmagic in /usr/local/lib/python3.7/dist-packages (0.0.2)\n",
            "Requirement already satisfied: ipython in /usr/local/lib/python3.7/dist-packages (from blackcellmagic) (5.5.0)\n",
            "Requirement already satisfied: black in /usr/local/lib/python3.7/dist-packages (from blackcellmagic) (20.8b1)\n",
            "Requirement already satisfied: pickleshare in /usr/local/lib/python3.7/dist-packages (from ipython->blackcellmagic) (0.7.5)\n",
            "Requirement already satisfied: simplegeneric>0.8 in /usr/local/lib/python3.7/dist-packages (from ipython->blackcellmagic) (0.8.1)\n",
            "Requirement already satisfied: setuptools>=18.5 in /usr/local/lib/python3.7/dist-packages (from ipython->blackcellmagic) (54.2.0)\n",
            "Requirement already satisfied: decorator in /usr/local/lib/python3.7/dist-packages (from ipython->blackcellmagic) (4.4.2)\n",
            "Requirement already satisfied: prompt-toolkit<2.0.0,>=1.0.4 in /usr/local/lib/python3.7/dist-packages (from ipython->blackcellmagic) (1.0.18)\n",
            "Requirement already satisfied: traitlets>=4.2 in /usr/local/lib/python3.7/dist-packages (from ipython->blackcellmagic) (5.0.5)\n",
            "Requirement already satisfied: pexpect; sys_platform != \"win32\" in /usr/local/lib/python3.7/dist-packages (from ipython->blackcellmagic) (4.8.0)\n",
            "Requirement already satisfied: pygments in /usr/local/lib/python3.7/dist-packages (from ipython->blackcellmagic) (2.6.1)\n",
            "Requirement already satisfied: pathspec<1,>=0.6 in /usr/local/lib/python3.7/dist-packages (from black->blackcellmagic) (0.8.1)\n",
            "Requirement already satisfied: typed-ast>=1.4.0 in /usr/local/lib/python3.7/dist-packages (from black->blackcellmagic) (1.4.2)\n",
            "Requirement already satisfied: appdirs in /usr/local/lib/python3.7/dist-packages (from black->blackcellmagic) (1.4.4)\n",
            "Requirement already satisfied: mypy-extensions>=0.4.3 in /usr/local/lib/python3.7/dist-packages (from black->blackcellmagic) (0.4.3)\n",
            "Requirement already satisfied: toml>=0.10.1 in /usr/local/lib/python3.7/dist-packages (from black->blackcellmagic) (0.10.2)\n",
            "Requirement already satisfied: typing-extensions>=3.7.4 in /usr/local/lib/python3.7/dist-packages (from black->blackcellmagic) (3.7.4.3)\n",
            "Requirement already satisfied: regex>=2020.1.8 in /usr/local/lib/python3.7/dist-packages (from black->blackcellmagic) (2021.4.4)\n",
            "Requirement already satisfied: click>=7.1.2 in /usr/local/lib/python3.7/dist-packages (from black->blackcellmagic) (7.1.2)\n",
            "Requirement already satisfied: six>=1.9.0 in /usr/local/lib/python3.7/dist-packages (from prompt-toolkit<2.0.0,>=1.0.4->ipython->blackcellmagic) (1.15.0)\n",
            "Requirement already satisfied: wcwidth in /usr/local/lib/python3.7/dist-packages (from prompt-toolkit<2.0.0,>=1.0.4->ipython->blackcellmagic) (0.2.5)\n",
            "Requirement already satisfied: ipython-genutils in /usr/local/lib/python3.7/dist-packages (from traitlets>=4.2->ipython->blackcellmagic) (0.2.0)\n",
            "Requirement already satisfied: ptyprocess>=0.5 in /usr/local/lib/python3.7/dist-packages (from pexpect; sys_platform != \"win32\"->ipython->blackcellmagic) (0.7.0)\n"
          ],
          "name": "stdout"
        }
      ]
    },
    {
      "cell_type": "code",
      "metadata": {
        "colab": {
          "base_uri": "https://localhost:8080/",
          "height": 51
        },
        "id": "D5_NLdmk9uCm",
        "outputId": "80948426-fae4-43d8-f7b7-f959834cb1e4"
      },
      "source": [
        "%load_ext blackcellmagic"
      ],
      "execution_count": 28,
      "outputs": [
        {
          "output_type": "display_data",
          "data": {
            "text/html": [
              "\n",
              "  <style>\n",
              "    pre {\n",
              "        white-space: pre-wrap;\n",
              "    }\n",
              "  </style>\n",
              "  "
            ],
            "text/plain": [
              "<IPython.core.display.HTML object>"
            ]
          },
          "metadata": {
            "tags": []
          }
        },
        {
          "output_type": "stream",
          "text": [
            "The blackcellmagic extension is already loaded. To reload it, use:\n",
            "  %reload_ext blackcellmagic\n"
          ],
          "name": "stdout"
        }
      ]
    },
    {
      "cell_type": "code",
      "metadata": {
        "colab": {
          "base_uri": "https://localhost:8080/",
          "height": 221
        },
        "id": "pacUyi3eKdQX",
        "outputId": "13c600a7-8dfb-4e2e-b068-b3ea9393508c"
      },
      "source": [
        "from IPython.display import HTML, display\n",
        "\n",
        "def set_css():\n",
        "  display(HTML('''\n",
        "  <style>\n",
        "    pre {\n",
        "        white-space: pre-wrap;\n",
        "    }\n",
        "  </style>\n",
        "  '''))\n",
        "get_ipython().events.register('pre_run_cell', set_css)\n",
        "\n",
        "from sympy import init_session\n",
        "init_session()"
      ],
      "execution_count": 2,
      "outputs": [
        {
          "output_type": "display_data",
          "data": {
            "text/html": [
              "\n",
              "  <style>\n",
              "    pre {\n",
              "        white-space: pre-wrap;\n",
              "    }\n",
              "  </style>\n",
              "  "
            ],
            "text/plain": [
              "<IPython.core.display.HTML object>"
            ]
          },
          "metadata": {
            "tags": []
          }
        },
        {
          "output_type": "stream",
          "text": [
            "IPython console for SymPy 1.7.1 (Python 3.7.10-64-bit) (ground types: python)\n",
            "\n",
            "These commands were executed:\n",
            ">>> from __future__ import division\n",
            ">>> from sympy import *\n",
            ">>> x, y, z, t = symbols('x y z t')\n",
            ">>> k, m, n = symbols('k m n', integer=True)\n",
            ">>> f, g, h = symbols('f g h', cls=Function)\n",
            ">>> init_printing()\n",
            "\n",
            "Documentation can be found at https://docs.sympy.org/1.7.1/\n",
            "\n"
          ],
          "name": "stdout"
        }
      ]
    },
    {
      "cell_type": "code",
      "metadata": {
        "colab": {
          "base_uri": "https://localhost:8080/",
          "height": 17
        },
        "id": "yeIJhWt4lmWX",
        "outputId": "94a42e56-32eb-425d-d6ab-aa7056e480d2"
      },
      "source": [
        "# Tool for custom rounding\n",
        "from bisect import bisect_left\n",
        "\n",
        "class CustomRound:\n",
        "\n",
        "    def __init__(self,iterable):\n",
        "        self.data = sorted(iterable)\n",
        "\n",
        "    def __call__(self,x):\n",
        "        data = self.data\n",
        "        ndata = len(data)\n",
        "        idx = bisect_left(data,x)\n",
        "        if idx <= 0:\n",
        "            return data[0]\n",
        "        elif idx >= ndata:\n",
        "            return data[ndata-1]\n",
        "        x0 = data[idx-1]\n",
        "        x1 = data[idx]\n",
        "        if abs(x-x0) < abs(x-x1):\n",
        "            return x0\n",
        "        return x1\n",
        "\n",
        "custom_round_values_base = [0, 1/5,1/4,1/3,2/5,1/2,3/5,2/3,3/4,4/5]\n",
        "custom_round_values = [i+j for i in range(20) for j in custom_round_values_base]\n",
        "custom_round = CustomRound(custom_round_values)"
      ],
      "execution_count": 3,
      "outputs": [
        {
          "output_type": "display_data",
          "data": {
            "text/html": [
              "\n",
              "  <style>\n",
              "    pre {\n",
              "        white-space: pre-wrap;\n",
              "    }\n",
              "  </style>\n",
              "  "
            ],
            "text/plain": [
              "<IPython.core.display.HTML object>"
            ]
          },
          "metadata": {
            "tags": []
          }
        }
      ]
    },
    {
      "cell_type": "markdown",
      "metadata": {
        "id": "JoVSpR7pnju0"
      },
      "source": [
        "#Actual Stuff"
      ]
    },
    {
      "cell_type": "markdown",
      "metadata": {
        "id": "dzxO9ZT8nmak"
      },
      "source": [
        "##Up Ramp"
      ]
    },
    {
      "cell_type": "code",
      "metadata": {
        "colab": {
          "base_uri": "https://localhost:8080/",
          "height": 0
        },
        "id": "yuyDaSI1IfeU",
        "outputId": "f9131767-2180-4849-e3bd-e10534f64b13"
      },
      "source": [
        "a, a1, b, b1, c, c1, s, t = symbols('a:2 b:2 c:2 s t')\n",
        "# a = start tempo of ramp\n",
        "# b = end tempo of ramp\n",
        "# c = length of ramp in beats\n",
        "# s = beat we are interested in\n",
        "# t = timecode of that beat\n",
        "tempoeq = Eq(integrate(1/(a/60+(x/c)*(b/60-a/60)),(x,0,s)),t)\n",
        "tempoeq"
      ],
      "execution_count": 4,
      "outputs": [
        {
          "output_type": "display_data",
          "data": {
            "text/html": [
              "\n",
              "  <style>\n",
              "    pre {\n",
              "        white-space: pre-wrap;\n",
              "    }\n",
              "  </style>\n",
              "  "
            ],
            "text/plain": [
              "<IPython.core.display.HTML object>"
            ]
          },
          "metadata": {
            "tags": []
          }
        },
        {
          "output_type": "execute_result",
          "data": {
            "image/png": "[encoded data removed]",
            "text/latex": "$\\displaystyle \\frac{60 c_{0} \\log{\\left(- a_{0} c_{0} \\right)}}{a_{0} - b_{0}} - \\frac{60 c_{0} \\log{\\left(- a_{0} c_{0} + s \\left(a_{0} - b_{0}\\right) \\right)}}{a_{0} - b_{0}} = t$",
            "text/plain": [
              "60⋅c₀⋅log(-a₀⋅c₀)   60⋅c₀⋅log(-a₀⋅c₀ + s⋅(a₀ - b₀))    \n",
              "───────────────── - ─────────────────────────────── = t\n",
              "     a₀ - b₀                    a₀ - b₀                "
            ]
          },
          "metadata": {
            "tags": []
          },
          "execution_count": 4
        }
      ]
    },
    {
      "cell_type": "code",
      "metadata": {
        "colab": {
          "base_uri": "https://localhost:8080/",
          "height": 0
        },
        "id": "CocA-YZDrbiI",
        "outputId": "e51852a9-ae08-431f-986f-2c98528a5af0"
      },
      "source": [
        "Eq(Integral(1/(a/60+(x/c)*(b/60-a/60)),(x,0,s)),t)"
      ],
      "execution_count": 5,
      "outputs": [
        {
          "output_type": "display_data",
          "data": {
            "text/html": [
              "\n",
              "  <style>\n",
              "    pre {\n",
              "        white-space: pre-wrap;\n",
              "    }\n",
              "  </style>\n",
              "  "
            ],
            "text/plain": [
              "<IPython.core.display.HTML object>"
            ]
          },
          "metadata": {
            "tags": []
          }
        },
        {
          "output_type": "execute_result",
          "data": {
            "image/png": "[encoded data removed]",
            "text/latex": "$\\displaystyle \\int\\limits_{0}^{s} \\frac{1}{\\frac{a_{0}}{60} + \\frac{x \\left(- \\frac{a_{0}}{60} + \\frac{b_{0}}{60}\\right)}{c_{0}}}\\, dx = t$",
            "text/plain": [
              "s                          \n",
              "⌠                          \n",
              "⎮         1                \n",
              "⎮ ────────────────── dx = t\n",
              "⎮        ⎛  a₀   b₀⎞       \n",
              "⎮      x⋅⎜- ── + ──⎟       \n",
              "⎮ a₀     ⎝  60   60⎠       \n",
              "⎮ ── + ─────────────       \n",
              "⎮ 60         c₀            \n",
              "⌡                          \n",
              "0                          "
            ]
          },
          "metadata": {
            "tags": []
          },
          "execution_count": 5
        }
      ]
    },
    {
      "cell_type": "code",
      "metadata": {
        "colab": {
          "base_uri": "https://localhost:8080/",
          "height": 0
        },
        "id": "MY4lqYuYTNjj",
        "outputId": "22c65e4c-68f9-4110-b744-779591543d14"
      },
      "source": [
        "s_solved = solveset(tempoeq,s).args[0]\n",
        "display(s_solved)"
      ],
      "execution_count": 6,
      "outputs": [
        {
          "output_type": "display_data",
          "data": {
            "text/html": [
              "\n",
              "  <style>\n",
              "    pre {\n",
              "        white-space: pre-wrap;\n",
              "    }\n",
              "  </style>\n",
              "  "
            ],
            "text/plain": [
              "<IPython.core.display.HTML object>"
            ]
          },
          "metadata": {
            "tags": []
          }
        },
        {
          "output_type": "display_data",
          "data": {
            "image/png": "[encoded data removed]",
            "text/latex": "$\\displaystyle \\frac{a_{0} c_{0} + e^{\\frac{\\left(a_{0} - b_{0}\\right) \\left(\\frac{60 c_{0} \\log{\\left(- a_{0} c_{0} \\right)}}{a_{0} - b_{0}} - t\\right)}{60 c_{0}}}}{a_{0} - b_{0}}$",
            "text/plain": [
              "                   ⎛60⋅c₀⋅log(-a₀⋅c₀)    ⎞\n",
              "         (a₀ - b₀)⋅⎜───────────────── - t⎟\n",
              "                   ⎝     a₀ - b₀         ⎠\n",
              "         ─────────────────────────────────\n",
              "                       60⋅c₀              \n",
              "a₀⋅c₀ + ℯ                                 \n",
              "──────────────────────────────────────────\n",
              "                 a₀ - b₀                  "
            ]
          },
          "metadata": {
            "tags": []
          }
        }
      ]
    },
    {
      "cell_type": "code",
      "metadata": {
        "colab": {
          "base_uri": "https://localhost:8080/",
          "height": 0
        },
        "id": "oRJzwbt04SJs",
        "outputId": "d4135c57-25e8-4a69-f5bf-6528c9628098"
      },
      "source": [
        "#@title Values for steady part\n",
        "number_of_beats = 13 #@param {type:\"integer\"}\n",
        "steady_tempo = 96 #@param {type:\"integer\"}"
      ],
      "execution_count": 7,
      "outputs": [
        {
          "output_type": "display_data",
          "data": {
            "text/html": [
              "\n",
              "  <style>\n",
              "    pre {\n",
              "        white-space: pre-wrap;\n",
              "    }\n",
              "  </style>\n",
              "  "
            ],
            "text/plain": [
              "<IPython.core.display.HTML object>"
            ]
          },
          "metadata": {
            "tags": []
          }
        }
      ]
    },
    {
      "cell_type": "code",
      "metadata": {
        "colab": {
          "base_uri": "https://localhost:8080/",
          "height": 0
        },
        "id": "acZBH-aq4yaK",
        "outputId": "32e002d3-2459-4ad8-ba09-29fe7b623514"
      },
      "source": [
        "#@title Values for ramp part\n",
        "start_tempo = 96 #@param {type:\"integer\"}\n",
        "end_tempo = 240 #@param {type:\"integer\"}\n",
        "length_in_beats = 20 #@param {type:\"integer\"}"
      ],
      "execution_count": 8,
      "outputs": [
        {
          "output_type": "display_data",
          "data": {
            "text/html": [
              "\n",
              "  <style>\n",
              "    pre {\n",
              "        white-space: pre-wrap;\n",
              "    }\n",
              "  </style>\n",
              "  "
            ],
            "text/plain": [
              "<IPython.core.display.HTML object>"
            ]
          },
          "metadata": {
            "tags": []
          }
        }
      ]
    },
    {
      "cell_type": "code",
      "metadata": {
        "colab": {
          "base_uri": "https://localhost:8080/",
          "height": 0
        },
        "id": "sROOBAlRvr_g",
        "outputId": "ad1c41a1-1698-4b07-a33e-58d6cd61e9e7"
      },
      "source": [
        "temposteady = steady_tempo\n",
        "beatlength = S(60)/steady_tempo\n",
        "#beats = [0, S(1)/3, 2, 4]\n",
        "beats = range(number_of_beats)\n",
        "beattimecodes_up_ramp = [beatlength*i for i in beats]\n",
        "outbeats = [s_solved.n(6,{a: start_tempo, b: end_tempo, c: length_in_beats, t: i},chop=True) for i in beattimecodes_up_ramp]\n",
        "for i in range(len(outbeats)):\n",
        "  print(beats[i], outbeats[i])"
      ],
      "execution_count": 9,
      "outputs": [
        {
          "output_type": "display_data",
          "data": {
            "text/html": [
              "\n",
              "  <style>\n",
              "    pre {\n",
              "        white-space: pre-wrap;\n",
              "    }\n",
              "  </style>\n",
              "  "
            ],
            "text/plain": [
              "<IPython.core.display.HTML object>"
            ]
          },
          "metadata": {
            "tags": []
          }
        },
        {
          "output_type": "stream",
          "text": [
            "0 0\n",
            "1 1.03846\n",
            "2 2.15779\n",
            "3 3.36430\n",
            "4 4.66478\n",
            "5 6.06655\n",
            "6 7.57750\n",
            "7 9.20612\n",
            "8 10.9616\n",
            "9 12.8538\n",
            "10 14.8933\n",
            "11 17.0917\n",
            "12 19.4614\n"
          ],
          "name": "stdout"
        }
      ]
    },
    {
      "cell_type": "code",
      "metadata": {
        "colab": {
          "base_uri": "https://localhost:8080/",
          "height": 0
        },
        "id": "s0whC0B12col",
        "outputId": "20f8afdb-8a9a-42b9-d6da-761458f81014"
      },
      "source": [
        "print(1/5,1/4,1/3,2/5,1/2,3/5,2/3,3/4,4/5)"
      ],
      "execution_count": 10,
      "outputs": [
        {
          "output_type": "display_data",
          "data": {
            "text/html": [
              "\n",
              "  <style>\n",
              "    pre {\n",
              "        white-space: pre-wrap;\n",
              "    }\n",
              "  </style>\n",
              "  "
            ],
            "text/plain": [
              "<IPython.core.display.HTML object>"
            ]
          },
          "metadata": {
            "tags": []
          }
        },
        {
          "output_type": "stream",
          "text": [
            "0.2 0.25 0.3333333333333333 0.4 0.5 0.6 0.6666666666666666 0.75 0.8\n"
          ],
          "name": "stdout"
        }
      ]
    },
    {
      "cell_type": "code",
      "metadata": {
        "colab": {
          "base_uri": "https://localhost:8080/",
          "height": 0
        },
        "id": "1AK2TZB5IQFz",
        "outputId": "967c3d35-2725-40d6-bdc3-a6c0b9a241f0"
      },
      "source": [
        "display(beattimecodes_up_ramp[12].n())\n",
        "display([i.n() for i in beattimecodes_up_ramp])"
      ],
      "execution_count": 11,
      "outputs": [
        {
          "output_type": "display_data",
          "data": {
            "text/html": [
              "\n",
              "  <style>\n",
              "    pre {\n",
              "        white-space: pre-wrap;\n",
              "    }\n",
              "  </style>\n",
              "  "
            ],
            "text/plain": [
              "<IPython.core.display.HTML object>"
            ]
          },
          "metadata": {
            "tags": []
          }
        },
        {
          "output_type": "display_data",
          "data": {
            "image/png": "[encoded data removed]",
            "text/latex": "$\\displaystyle 7.5$",
            "text/plain": [
              "7.50000000000000"
            ]
          },
          "metadata": {
            "tags": []
          }
        },
        {
          "output_type": "display_data",
          "data": {
            "image/png": "[encoded data removed]",
            "text/latex": "$\\displaystyle \\left[ 0, \\  0.625, \\  1.25, \\  1.875, \\  2.5, \\  3.125, \\  3.75, \\  4.375, \\  5.0, \\  5.625, \\  6.25, \\  6.875, \\  7.5\\right]$",
            "text/plain": [
              "[0, 0.625, 1.25, 1.875, 2.5, 3.125, 3.75, 4.375, 5.0, 5.625, 6.25, 6.875, 7.5]"
            ]
          },
          "metadata": {
            "tags": []
          }
        }
      ]
    },
    {
      "cell_type": "code",
      "metadata": {
        "colab": {
          "base_uri": "https://localhost:8080/",
          "height": 0
        },
        "id": "2Y_GIxPUJHpY",
        "outputId": "d527cdaa-8fe8-43d5-c0ad-a2946276301f"
      },
      "source": [
        "# Timecode at beat 20\n",
        "solveset(tempoeq.subs({a: start_tempo, b: end_tempo, c: length_in_beats, s:20}),t).n(6)"
      ],
      "execution_count": 12,
      "outputs": [
        {
          "output_type": "display_data",
          "data": {
            "text/html": [
              "\n",
              "  <style>\n",
              "    pre {\n",
              "        white-space: pre-wrap;\n",
              "    }\n",
              "  </style>\n",
              "  "
            ],
            "text/plain": [
              "<IPython.core.display.HTML object>"
            ]
          },
          "metadata": {
            "tags": []
          }
        },
        {
          "output_type": "execute_result",
          "data": {
            "image/png": "[encoded data removed]",
            "text/latex": "$\\displaystyle \\left\\{7.63577\\right\\}$",
            "text/plain": [
              "{7.63577}"
            ]
          },
          "metadata": {
            "tags": []
          },
          "execution_count": 12
        }
      ]
    },
    {
      "cell_type": "markdown",
      "metadata": {
        "id": "DzLdtjCVnqxG"
      },
      "source": [
        "##Down Ramp"
      ]
    },
    {
      "cell_type": "code",
      "metadata": {
        "colab": {
          "base_uri": "https://localhost:8080/",
          "height": 120
        },
        "id": "BQi6KWgwKdcT",
        "outputId": "f5f39247-34bb-448d-f276-eee9eeb114ee"
      },
      "source": [
        "# b1 = end tempo of down ramp\n",
        "# c1 = number of beats in down ramp\n",
        "tempoeq2_not_done = Eq(Integral(1/(a/60+(x/c)*(b/60-a/60)),(x,0,20))+Integral(1/(b/60+(x/c1)*(b1/60-b/60)),(x,0,s)),t)\n",
        "display(tempoeq2_not_done)\n",
        "tempoeq2 = tempoeq2_not_done.doit()\n",
        "display(tempoeq2)"
      ],
      "execution_count": 13,
      "outputs": [
        {
          "output_type": "display_data",
          "data": {
            "text/html": [
              "\n",
              "  <style>\n",
              "    pre {\n",
              "        white-space: pre-wrap;\n",
              "    }\n",
              "  </style>\n",
              "  "
            ],
            "text/plain": [
              "<IPython.core.display.HTML object>"
            ]
          },
          "metadata": {
            "tags": []
          }
        },
        {
          "output_type": "display_data",
          "data": {
            "image/png": "[encoded data removed]",
            "text/latex": "$\\displaystyle \\int\\limits_{0}^{20} \\frac{1}{\\frac{a_{0}}{60} + \\frac{x \\left(- \\frac{a_{0}}{60} + \\frac{b_{0}}{60}\\right)}{c_{0}}}\\, dx + \\int\\limits_{0}^{s} \\frac{1}{\\frac{b_{0}}{60} + \\frac{x \\left(- \\frac{b_{0}}{60} + \\frac{b_{1}}{60}\\right)}{c_{1}}}\\, dx = t$",
            "text/plain": [
              "20                         s                          \n",
              "⌠                          ⌠                          \n",
              "⎮          1               ⎮         1                \n",
              "⎮  ────────────────── dx + ⎮ ────────────────── dx = t\n",
              "⎮         ⎛  a₀   b₀⎞      ⎮        ⎛  b₀   b₁⎞       \n",
              "⎮       x⋅⎜- ── + ──⎟      ⎮      x⋅⎜- ── + ──⎟       \n",
              "⎮  a₀     ⎝  60   60⎠      ⎮ b₀     ⎝  60   60⎠       \n",
              "⎮  ── + ─────────────      ⎮ ── + ─────────────       \n",
              "⎮  60         c₀           ⎮ 60         c₁            \n",
              "⌡                          ⌡                          \n",
              "0                          0                          "
            ]
          },
          "metadata": {
            "tags": []
          }
        },
        {
          "output_type": "display_data",
          "data": {
            "image/png": "[encoded data removed]",
            "text/latex": "$\\displaystyle \\frac{60 c_{0} \\log{\\left(- a_{0} c_{0} \\right)}}{a_{0} - b_{0}} - \\frac{60 c_{0} \\log{\\left(- a_{0} c_{0} + 20 a_{0} - 20 b_{0} \\right)}}{a_{0} - b_{0}} + \\frac{60 c_{1} \\log{\\left(- b_{0} c_{1} \\right)}}{b_{0} - b_{1}} - \\frac{60 c_{1} \\log{\\left(- b_{0} c_{1} + s \\left(b_{0} - b_{1}\\right) \\right)}}{b_{0} - b_{1}} = t$",
            "text/plain": [
              "60⋅c₀⋅log(-a₀⋅c₀)   60⋅c₀⋅log(-a₀⋅c₀ + 20⋅a₀ - 20⋅b₀)   60⋅c₁⋅log(-b₀⋅c₁)   60\n",
              "───────────────── - ───────────────────────────────── + ───────────────── - ──\n",
              "     a₀ - b₀                     a₀ - b₀                     b₀ - b₁          \n",
              "\n",
              "⋅c₁⋅log(-b₀⋅c₁ + s⋅(b₀ - b₁))    \n",
              "───────────────────────────── = t\n",
              "          b₀ - b₁                "
            ]
          },
          "metadata": {
            "tags": []
          }
        }
      ]
    },
    {
      "cell_type": "code",
      "metadata": {
        "colab": {
          "base_uri": "https://localhost:8080/",
          "height": 17
        },
        "id": "ybp5oRGJNS7X",
        "outputId": "fd3aa003-3463-4db6-d62f-b7cd67c263af"
      },
      "source": [
        "%%black\n",
        "s2_solved = solveset(tempoeq2,s).args[0]\n",
        "#display(s2_solved.args[0])\n",
        "s2_solved_subbed = s2_solved.subs({a: 96, b: 240, c: 20, b1: 60, c1: 16})\n",
        "display(s2_solved_subbed)\n",
        "# values for slowing down ramp\n",
        "beats_down_ramp = range(13,floor(16/beatlength))\n",
        "beattimecodes_down_ramp = [beatlength*i for i in beats_down_ramp]\n",
        "display([i.n() for i in beattimecodes_down_ramp])\n",
        "outbeats_down_ramp = [s2_solved_subbed.n(6,{t: i},chop=True) for i in beattimecodes_down_ramp]\n",
        "for i in range(len(outbeats_down_ramp)):\n",
        "  print(beats_down_ramp[i],\n",
        "        outbeats_down_ramp[i],\n",
        "        custom_round(outbeats_down_ramp[i])\n",
        "        ) # beat values (from start of ramp)"
      ],
      "execution_count": 29,
      "outputs": [
        {
          "output_type": "display_data",
          "data": {
            "text/html": [
              "\n",
              "  <style>\n",
              "    pre {\n",
              "        white-space: pre-wrap;\n",
              "    }\n",
              "  </style>\n",
              "  "
            ],
            "text/plain": [
              "<IPython.core.display.HTML object>"
            ]
          },
          "metadata": {
            "tags": []
          }
        }
      ]
    },
    {
      "cell_type": "code",
      "metadata": {
        "colab": {
          "base_uri": "https://localhost:8080/",
          "height": 37
        },
        "id": "JIHGjDRby1QH",
        "outputId": "d55d8967-17d1-47ae-c243-0c37d264888e"
      },
      "source": [
        "#total length of both ramps in seconds:\n",
        "solveset(tempoeq2,t).args[0].subs({a: 96, b: 240, c: 20, b1: 60, c1: 16, s:16}).n(6)"
      ],
      "execution_count": 15,
      "outputs": [
        {
          "output_type": "display_data",
          "data": {
            "text/html": [
              "\n",
              "  <style>\n",
              "    pre {\n",
              "        white-space: pre-wrap;\n",
              "    }\n",
              "  </style>\n",
              "  "
            ],
            "text/plain": [
              "<IPython.core.display.HTML object>"
            ]
          },
          "metadata": {
            "tags": []
          }
        },
        {
          "output_type": "execute_result",
          "data": {
            "image/png": "[encoded data removed]",
            "text/latex": "$\\displaystyle 15.0293$",
            "text/plain": [
              "15.0293"
            ]
          },
          "metadata": {
            "tags": []
          },
          "execution_count": 15
        }
      ]
    },
    {
      "cell_type": "code",
      "metadata": {
        "colab": {
          "base_uri": "https://localhost:8080/",
          "height": 55
        },
        "id": "a8l4dRchz_nt",
        "outputId": "42843548-356e-4e13-b2aa-ff5dbfb080e7"
      },
      "source": [
        "def ramp(start_tempo,end_tempo,total_beats,bound_beat):\n",
        "  '''This integral is equal to the timecode at the bound_beat.'''\n",
        "  return integrate(1/(start_tempo/60+(x/total_beats)*(S(end_tempo)/60-start_tempo/60)),(x,0,bound_beat))\n",
        "\n",
        "tempoeq2_version_using_ramp = Eq(ramp(a,b,c,20) + ramp(b,b1,c1,s), t)\n",
        "display(tempoeq2_version_using_ramp) # this is equal to tempoeq2"
      ],
      "execution_count": 22,
      "outputs": [
        {
          "output_type": "display_data",
          "data": {
            "text/html": [
              "\n",
              "  <style>\n",
              "    pre {\n",
              "        white-space: pre-wrap;\n",
              "    }\n",
              "  </style>\n",
              "  "
            ],
            "text/plain": [
              "<IPython.core.display.HTML object>"
            ]
          },
          "metadata": {
            "tags": []
          }
        },
        {
          "output_type": "display_data",
          "data": {
            "image/png": "[encoded data removed]",
            "text/latex": "$\\displaystyle \\frac{60 c_{0} \\log{\\left(- a_{0} c_{0} \\right)}}{a_{0} - b_{0}} - \\frac{60 c_{0} \\log{\\left(- a_{0} c_{0} + 20 a_{0} - 20 b_{0} \\right)}}{a_{0} - b_{0}} + \\frac{60 c_{1} \\log{\\left(- b_{0} c_{1} \\right)}}{b_{0} - b_{1}} - \\frac{60 c_{1} \\log{\\left(- b_{0} c_{1} + s \\left(b_{0} - b_{1}\\right) \\right)}}{b_{0} - b_{1}} = t$",
            "text/plain": [
              "60⋅c₀⋅log(-a₀⋅c₀)   60⋅c₀⋅log(-a₀⋅c₀ + 20⋅a₀ - 20⋅b₀)   60⋅c₁⋅log(-b₀⋅c₁)   60\n",
              "───────────────── - ───────────────────────────────── + ───────────────── - ──\n",
              "     a₀ - b₀                     a₀ - b₀                     b₀ - b₁          \n",
              "\n",
              "⋅c₁⋅log(-b₀⋅c₁ + s⋅(b₀ - b₁))    \n",
              "───────────────────────────── = t\n",
              "          b₀ - b₁                "
            ]
          },
          "metadata": {
            "tags": []
          }
        }
      ]
    }
  ]
}