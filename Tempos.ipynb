{
 "cells": [
  {
   "cell_type": "markdown",
   "metadata": {
    "colab_type": "text",
    "id": "view-in-github"
   },
   "source": [
    "<a href=\"https://colab.research.google.com/github/SG60/2021-multi-group-piece/blob/main/Tempos.ipynb\" target=\"_parent\"><img src=\"https://colab.research.google.com/assets/colab-badge.svg\" alt=\"Open In Colab\"/></a>"
   ]
  },
  {
   "cell_type": "markdown",
   "metadata": {
    "heading_collapsed": "true",
    "id": "VSyKJN8dnb6j",
    "tags": []
   },
   "source": [
    "# Basic Setup"
   ]
  },
  {
   "cell_type": "code",
   "execution_count": 3,
   "metadata": {
    "colab": {
     "base_uri": "https://localhost:8080/",
     "height": 0
    },
    "id": "pacUyi3eKdQX",
    "outputId": "16022003-308b-4997-b0cb-9ada86dc014b",
    "tags": []
   },
   "outputs": [
    {
     "data": {
      "text/html": [
       "\n",
       "  <style>\n",
       "    pre {\n",
       "        white-space: pre-wrap;\n",
       "    }\n",
       "  </style>\n",
       "  "
      ],
      "text/plain": [
       "<IPython.core.display.HTML object>"
      ]
     },
     "metadata": {},
     "output_type": "display_data"
    },
    {
     "name": "stdout",
     "output_type": "stream",
     "text": [
      "IPython console for SymPy 1.8 (Python 3.9.3-64-bit) (ground types: python)\n",
      "\n",
      "These commands were executed:\n",
      ">>> from __future__ import division\n",
      ">>> from sympy import *\n",
      ">>> x, y, z, t = symbols('x y z t')\n",
      ">>> k, m, n = symbols('k m n', integer=True)\n",
      ">>> f, g, h = symbols('f g h', cls=Function)\n",
      ">>> init_printing()\n",
      "\n",
      "Documentation can be found at https://docs.sympy.org/1.8/\n",
      "\n"
     ]
    }
   ],
   "source": [
    "from IPython.display import HTML, display\n",
    "\n",
    "\n",
    "def set_css():\n",
    "    display(\n",
    "        HTML(\n",
    "            \"\"\"\n",
    "  <style>\n",
    "    pre {\n",
    "        white-space: pre-wrap;\n",
    "    }\n",
    "  </style>\n",
    "  \"\"\"\n",
    "        )\n",
    "    )\n",
    "\n",
    "\n",
    "get_ipython().events.register(\"pre_run_cell\", set_css)\n",
    "\n",
    "from sympy import init_session\n",
    "\n",
    "init_session()"
   ]
  },
  {
   "cell_type": "code",
   "execution_count": 4,
   "metadata": {
    "colab": {
     "base_uri": "https://localhost:8080/",
     "height": 0
    },
    "id": "yeIJhWt4lmWX",
    "outputId": "ae74806b-c2e0-4192-b660-f25c0eb88b9c",
    "tags": []
   },
   "outputs": [
    {
     "data": {
      "text/html": [
       "\n",
       "  <style>\n",
       "    pre {\n",
       "        white-space: pre-wrap;\n",
       "    }\n",
       "  </style>\n",
       "  "
      ],
      "text/plain": [
       "<IPython.core.display.HTML object>"
      ]
     },
     "metadata": {},
     "output_type": "display_data"
    }
   ],
   "source": [
    "# Tool for custom rounding\n",
    "from bisect import bisect_left\n",
    "\n",
    "\n",
    "class CustomRound:\n",
    "    def __init__(self, iterable):\n",
    "        self.data = sorted(iterable)\n",
    "\n",
    "    def __call__(self, x):\n",
    "        data = self.data\n",
    "        ndata = len(data)\n",
    "        idx = bisect_left(data, x)\n",
    "        if idx <= 0:\n",
    "            return data[0]\n",
    "        elif idx >= ndata:\n",
    "            return data[ndata - 1]\n",
    "        x0 = data[idx - 1]\n",
    "        x1 = data[idx]\n",
    "        if abs(x - x0) < abs(x - x1):\n",
    "            return x0\n",
    "        return x1\n",
    "\n",
    "\n",
    "custom_round_values_base = [\n",
    "    0,\n",
    "    1 / 5,\n",
    "    1 / 4,\n",
    "    1 / 3,\n",
    "    2 / 5,\n",
    "    1 / 2,\n",
    "    3 / 5,\n",
    "    2 / 3,\n",
    "    3 / 4,\n",
    "    4 / 5,\n",
    "]\n",
    "custom_round_values = [i + j for i in range(20) for j in custom_round_values_base]\n",
    "custom_round = CustomRound(custom_round_values)"
   ]
  },
  {
   "cell_type": "markdown",
   "metadata": {
    "id": "CkEZ_CLRXTkF",
    "tags": []
   },
   "source": [
    "# assigments"
   ]
  },
  {
   "cell_type": "code",
   "execution_count": 5,
   "metadata": {
    "colab": {
     "base_uri": "https://localhost:8080/",
     "height": 17
    },
    "hidden": true,
    "id": "uQUh_YL6XQdU",
    "outputId": "a9f155b3-8fd5-48e8-9ca9-d9a365e43c4d"
   },
   "outputs": [
    {
     "data": {
      "text/html": [
       "\n",
       "  <style>\n",
       "    pre {\n",
       "        white-space: pre-wrap;\n",
       "    }\n",
       "  </style>\n",
       "  "
      ],
      "text/plain": [
       "<IPython.core.display.HTML object>"
      ]
     },
     "metadata": {},
     "output_type": "display_data"
    }
   ],
   "source": [
    "a, a1, b, b1, c, c1, d, s = symbols(\"a:2 b:2 c:2 d s\")\n",
    "t, t1, t2, t3, t4, t5, t6, t7, t8, t9, t10 = symbols(\"t:11\")"
   ]
  },
  {
   "cell_type": "markdown",
   "metadata": {
    "id": "FSN2ZttFEe8A"
   },
   "source": [
    "# Ramp code"
   ]
  },
  {
   "cell_type": "code",
   "execution_count": 6,
   "metadata": {
    "colab": {
     "base_uri": "https://localhost:8080/",
     "height": 17
    },
    "id": "a8l4dRchz_nt",
    "outputId": "1204d9b2-e399-4d6a-eaae-49363031419c"
   },
   "outputs": [
    {
     "data": {
      "text/html": [
       "\n",
       "  <style>\n",
       "    pre {\n",
       "        white-space: pre-wrap;\n",
       "    }\n",
       "  </style>\n",
       "  "
      ],
      "text/plain": [
       "<IPython.core.display.HTML object>"
      ]
     },
     "metadata": {},
     "output_type": "display_data"
    }
   ],
   "source": [
    "def ramp(start_tempo, end_tempo, total_beats, bound_beat, bottom_bound_beat=0):\n",
    "    \"\"\"This integral is equal to the timecode at the bound_beat.\"\"\"\n",
    "    return Integral(\n",
    "        1\n",
    "        / (\n",
    "            start_tempo / 60\n",
    "            + (x / total_beats) * (S(end_tempo) / 60 - start_tempo / 60)\n",
    "        ),\n",
    "        (x, bottom_bound_beat, bound_beat),\n",
    "    )"
   ]
  },
  {
   "cell_type": "code",
   "execution_count": 7,
   "metadata": {
    "colab": {
     "base_uri": "https://localhost:8080/",
     "height": 141
    },
    "id": "pcSTL-cnTGDs",
    "outputId": "1e0a2a93-85a9-4c9a-875e-677176de1da6"
   },
   "outputs": [
    {
     "data": {
      "text/html": [
       "\n",
       "  <style>\n",
       "    pre {\n",
       "        white-space: pre-wrap;\n",
       "    }\n",
       "  </style>\n",
       "  "
      ],
      "text/plain": [
       "<IPython.core.display.HTML object>"
      ]
     },
     "metadata": {},
     "output_type": "display_data"
    },
    {
     "data": {
      "text/latex": [
       "$\\displaystyle f{\\left(a_{0},b_{0},c_{0},20 \\right)} + f{\\left(b_{0},b_{1},c_{1},s \\right)} = t_{0}$"
      ],
      "text/plain": [
       "f(a₀, b₀, c₀, 20) + f(b₀, b₁, c₁, s) = t₀"
      ]
     },
     "metadata": {},
     "output_type": "display_data"
    },
    {
     "data": {
      "text/latex": [
       "$\\displaystyle \\int\\limits_{0}^{20} \\frac{1}{\\frac{a_{0}}{60} + \\frac{x \\left(- \\frac{a_{0}}{60} + \\frac{b_{0}}{60}\\right)}{c_{0}}}\\, dx + \\int\\limits_{0}^{s} \\frac{1}{\\frac{b_{0}}{60} + \\frac{x \\left(- \\frac{b_{0}}{60} + \\frac{b_{1}}{60}\\right)}{c_{1}}}\\, dx = t_{0}$"
      ],
      "text/plain": [
       "20                         s                           \n",
       "⌠                          ⌠                           \n",
       "⎮          1               ⎮         1                 \n",
       "⎮  ────────────────── dx + ⎮ ────────────────── dx = t₀\n",
       "⎮         ⎛  a₀   b₀⎞      ⎮        ⎛  b₀   b₁⎞        \n",
       "⎮       x⋅⎜- ── + ──⎟      ⎮      x⋅⎜- ── + ──⎟        \n",
       "⎮  a₀     ⎝  60   60⎠      ⎮ b₀     ⎝  60   60⎠        \n",
       "⎮  ── + ─────────────      ⎮ ── + ─────────────        \n",
       "⎮  60         c₀           ⎮ 60         c₁             \n",
       "⌡                          ⌡                           \n",
       "0                          0                           "
      ]
     },
     "metadata": {},
     "output_type": "display_data"
    },
    {
     "data": {
      "text/latex": [
       "$\\displaystyle \\frac{60 c_{0} \\log{\\left(- a_{0} c_{0} \\right)}}{a_{0} - b_{0}} - \\frac{60 c_{0} \\log{\\left(- a_{0} c_{0} + 20 a_{0} - 20 b_{0} \\right)}}{a_{0} - b_{0}} + \\frac{60 c_{1} \\log{\\left(- b_{0} c_{1} \\right)}}{b_{0} - b_{1}} - \\frac{60 c_{1} \\log{\\left(- b_{0} c_{1} + s \\left(b_{0} - b_{1}\\right) \\right)}}{b_{0} - b_{1}} = t_{0}$"
      ],
      "text/plain": [
       "60⋅c₀⋅log(-a₀⋅c₀)   60⋅c₀⋅log(-a₀⋅c₀ + 20⋅a₀ - 20⋅b₀)   60⋅c₁⋅log(-b₀⋅c₁)   60\n",
       "───────────────── - ───────────────────────────────── + ───────────────── - ──\n",
       "     a₀ - b₀                     a₀ - b₀                     b₀ - b₁          \n",
       "\n",
       "⋅c₁⋅log(-b₀⋅c₁ + s⋅(b₀ - b₁))     \n",
       "───────────────────────────── = t₀\n",
       "          b₀ - b₁                 "
      ]
     },
     "metadata": {},
     "output_type": "display_data"
    }
   ],
   "source": [
    "# or another way, starting with an unknown function:\n",
    "_test1 = Eq(f(a, b, c, 20) + f(b, b1, c1, s), t)\n",
    "display(_test1)\n",
    "display(_test1.replace(f, ramp))\n",
    "display(_test1.replace(f, ramp).doit())  # this is equal to tempoeq2"
   ]
  },
  {
   "cell_type": "markdown",
   "metadata": {
    "id": "JoVSpR7pnju0",
    "tags": []
   },
   "source": [
    "# Wind up+down ramp in A section"
   ]
  },
  {
   "cell_type": "markdown",
   "metadata": {
    "id": "dzxO9ZT8nmak",
    "toc-hr-collapsed": true
   },
   "source": [
    "## Up Ramp"
   ]
  },
  {
   "cell_type": "code",
   "execution_count": 8,
   "metadata": {
    "colab": {
     "base_uri": "https://localhost:8080/",
     "height": 0
    },
    "id": "yuyDaSI1IfeU",
    "outputId": "72c80c7f-ba89-490d-83fe-774fd7ddb266"
   },
   "outputs": [
    {
     "data": {
      "text/html": [
       "\n",
       "  <style>\n",
       "    pre {\n",
       "        white-space: pre-wrap;\n",
       "    }\n",
       "  </style>\n",
       "  "
      ],
      "text/plain": [
       "<IPython.core.display.HTML object>"
      ]
     },
     "metadata": {},
     "output_type": "display_data"
    },
    {
     "data": {
      "text/latex": [
       "$\\displaystyle \\frac{60 c_{0} \\log{\\left(- a_{0} c_{0} \\right)}}{a_{0} - b_{0}} - \\frac{60 c_{0} \\log{\\left(- a_{0} c_{0} + s \\left(a_{0} - b_{0}\\right) \\right)}}{a_{0} - b_{0}} = t$"
      ],
      "text/plain": [
       "60⋅c₀⋅log(-a₀⋅c₀)   60⋅c₀⋅log(-a₀⋅c₀ + s⋅(a₀ - b₀))    \n",
       "───────────────── - ─────────────────────────────── = t\n",
       "     a₀ - b₀                    a₀ - b₀                "
      ]
     },
     "execution_count": 8,
     "metadata": {},
     "output_type": "execute_result"
    }
   ],
   "source": [
    "a, a1, b, b1, c, c1, s, t = symbols(\"a:2 b:2 c:2 s t\")\n",
    "# a = start tempo of ramp\n",
    "# b = end tempo of ramp\n",
    "# c = length of ramp in beats\n",
    "# s = beat we are interested in\n",
    "# t = timecode of that beat\n",
    "tempoeq = Eq(integrate(1 / (a / 60 + (x / c) * (b / 60 - a / 60)), (x, 0, s)), t)\n",
    "tempoeq"
   ]
  },
  {
   "cell_type": "code",
   "execution_count": 9,
   "metadata": {
    "colab": {
     "base_uri": "https://localhost:8080/",
     "height": 0
    },
    "id": "CocA-YZDrbiI",
    "outputId": "17a0d209-359d-493d-d072-71f45039ad03"
   },
   "outputs": [
    {
     "data": {
      "text/html": [
       "\n",
       "  <style>\n",
       "    pre {\n",
       "        white-space: pre-wrap;\n",
       "    }\n",
       "  </style>\n",
       "  "
      ],
      "text/plain": [
       "<IPython.core.display.HTML object>"
      ]
     },
     "metadata": {},
     "output_type": "display_data"
    },
    {
     "data": {
      "text/latex": [
       "$\\displaystyle \\int\\limits_{0}^{s} \\frac{1}{\\frac{a_{0}}{60} + \\frac{x \\left(- \\frac{a_{0}}{60} + \\frac{b_{0}}{60}\\right)}{c_{0}}}\\, dx = t$"
      ],
      "text/plain": [
       "s                          \n",
       "⌠                          \n",
       "⎮         1                \n",
       "⎮ ────────────────── dx = t\n",
       "⎮        ⎛  a₀   b₀⎞       \n",
       "⎮      x⋅⎜- ── + ──⎟       \n",
       "⎮ a₀     ⎝  60   60⎠       \n",
       "⎮ ── + ─────────────       \n",
       "⎮ 60         c₀            \n",
       "⌡                          \n",
       "0                          "
      ]
     },
     "execution_count": 9,
     "metadata": {},
     "output_type": "execute_result"
    }
   ],
   "source": [
    "Eq(Integral(1 / (a / 60 + (x / c) * (b / 60 - a / 60)), (x, 0, s)), t)"
   ]
  },
  {
   "cell_type": "code",
   "execution_count": 10,
   "metadata": {
    "colab": {
     "base_uri": "https://localhost:8080/",
     "height": 0
    },
    "id": "MY4lqYuYTNjj",
    "outputId": "8ac5c715-35cb-460b-d05b-b54937c48fb0"
   },
   "outputs": [
    {
     "data": {
      "text/html": [
       "\n",
       "  <style>\n",
       "    pre {\n",
       "        white-space: pre-wrap;\n",
       "    }\n",
       "  </style>\n",
       "  "
      ],
      "text/plain": [
       "<IPython.core.display.HTML object>"
      ]
     },
     "metadata": {},
     "output_type": "display_data"
    },
    {
     "data": {
      "text/latex": [
       "$\\displaystyle \\frac{a_{0} c_{0} + e^{\\frac{\\left(a_{0} - b_{0}\\right) \\left(\\frac{60 c_{0} \\log{\\left(- a_{0} c_{0} \\right)}}{a_{0} - b_{0}} - t\\right)}{60 c_{0}}}}{a_{0} - b_{0}}$"
      ],
      "text/plain": [
       "                   ⎛60⋅c₀⋅log(-a₀⋅c₀)    ⎞\n",
       "         (a₀ - b₀)⋅⎜───────────────── - t⎟\n",
       "                   ⎝     a₀ - b₀         ⎠\n",
       "         ─────────────────────────────────\n",
       "                       60⋅c₀              \n",
       "a₀⋅c₀ + ℯ                                 \n",
       "──────────────────────────────────────────\n",
       "                 a₀ - b₀                  "
      ]
     },
     "metadata": {},
     "output_type": "display_data"
    }
   ],
   "source": [
    "s_solved = solveset(tempoeq, s).args[0]\n",
    "display(s_solved)"
   ]
  },
  {
   "cell_type": "code",
   "execution_count": 11,
   "metadata": {
    "colab": {
     "base_uri": "https://localhost:8080/",
     "height": 0
    },
    "id": "oRJzwbt04SJs",
    "outputId": "a829a064-7e06-4065-a3fa-01fa447ff8d3"
   },
   "outputs": [
    {
     "data": {
      "text/html": [
       "\n",
       "  <style>\n",
       "    pre {\n",
       "        white-space: pre-wrap;\n",
       "    }\n",
       "  </style>\n",
       "  "
      ],
      "text/plain": [
       "<IPython.core.display.HTML object>"
      ]
     },
     "metadata": {},
     "output_type": "display_data"
    }
   ],
   "source": [
    "# @title Values for steady part\n",
    "number_of_beats = 13  # @param {type:\"integer\"}\n",
    "steady_tempo = 96  # @param {type:\"integer\"}"
   ]
  },
  {
   "cell_type": "code",
   "execution_count": 12,
   "metadata": {
    "colab": {
     "base_uri": "https://localhost:8080/",
     "height": 0
    },
    "id": "acZBH-aq4yaK",
    "outputId": "f19fefcd-849b-443f-c779-5be95846b739"
   },
   "outputs": [
    {
     "data": {
      "text/html": [
       "\n",
       "  <style>\n",
       "    pre {\n",
       "        white-space: pre-wrap;\n",
       "    }\n",
       "  </style>\n",
       "  "
      ],
      "text/plain": [
       "<IPython.core.display.HTML object>"
      ]
     },
     "metadata": {},
     "output_type": "display_data"
    }
   ],
   "source": [
    "# @title Values for ramp part\n",
    "start_tempo = 96  # @param {type:\"integer\"}\n",
    "end_tempo = 240  # @param {type:\"integer\"}\n",
    "length_in_beats = 20  # @param {type:\"integer\"}"
   ]
  },
  {
   "cell_type": "code",
   "execution_count": 13,
   "metadata": {
    "colab": {
     "base_uri": "https://localhost:8080/",
     "height": 0
    },
    "id": "sROOBAlRvr_g",
    "outputId": "8b375bee-891b-44c2-ef28-e6dc78c23cbd"
   },
   "outputs": [
    {
     "data": {
      "text/html": [
       "\n",
       "  <style>\n",
       "    pre {\n",
       "        white-space: pre-wrap;\n",
       "    }\n",
       "  </style>\n",
       "  "
      ],
      "text/plain": [
       "<IPython.core.display.HTML object>"
      ]
     },
     "metadata": {},
     "output_type": "display_data"
    },
    {
     "name": "stdout",
     "output_type": "stream",
     "text": [
      "0 0\n",
      "1 1.03846\n",
      "2 2.15779\n",
      "3 3.36430\n",
      "4 4.66478\n",
      "5 6.06655\n",
      "6 7.57750\n",
      "7 9.20612\n",
      "8 10.9616\n",
      "9 12.8538\n",
      "10 14.8933\n",
      "11 17.0917\n",
      "12 19.4614\n"
     ]
    }
   ],
   "source": [
    "temposteady = steady_tempo\n",
    "beatlength = S(60) / steady_tempo\n",
    "# beats = [0, S(1)/3, 2, 4]\n",
    "beats = range(number_of_beats)\n",
    "beattimecodes_up_ramp = [beatlength * i for i in beats]\n",
    "outbeats = [\n",
    "    s_solved.n(6, {a: start_tempo, b: end_tempo, c: length_in_beats, t: i}, chop=True)\n",
    "    for i in beattimecodes_up_ramp\n",
    "]\n",
    "for i in range(len(outbeats)):\n",
    "    print(beats[i], outbeats[i])"
   ]
  },
  {
   "cell_type": "code",
   "execution_count": 14,
   "metadata": {
    "colab": {
     "base_uri": "https://localhost:8080/",
     "height": 0
    },
    "id": "s0whC0B12col",
    "outputId": "955a9bc4-2128-433d-a52b-9be67aec1575"
   },
   "outputs": [
    {
     "data": {
      "text/html": [
       "\n",
       "  <style>\n",
       "    pre {\n",
       "        white-space: pre-wrap;\n",
       "    }\n",
       "  </style>\n",
       "  "
      ],
      "text/plain": [
       "<IPython.core.display.HTML object>"
      ]
     },
     "metadata": {},
     "output_type": "display_data"
    },
    {
     "name": "stdout",
     "output_type": "stream",
     "text": [
      "0.2 0.25 0.3333333333333333 0.4 0.5 0.6 0.6666666666666666 0.75 0.8\n"
     ]
    }
   ],
   "source": [
    "print(1 / 5, 1 / 4, 1 / 3, 2 / 5, 1 / 2, 3 / 5, 2 / 3, 3 / 4, 4 / 5)"
   ]
  },
  {
   "cell_type": "code",
   "execution_count": 15,
   "metadata": {
    "colab": {
     "base_uri": "https://localhost:8080/",
     "height": 0
    },
    "id": "1AK2TZB5IQFz",
    "outputId": "654ef989-8af5-4659-ed27-0b994be293ad"
   },
   "outputs": [
    {
     "data": {
      "text/html": [
       "\n",
       "  <style>\n",
       "    pre {\n",
       "        white-space: pre-wrap;\n",
       "    }\n",
       "  </style>\n",
       "  "
      ],
      "text/plain": [
       "<IPython.core.display.HTML object>"
      ]
     },
     "metadata": {},
     "output_type": "display_data"
    },
    {
     "data": {
      "text/latex": [
       "$\\displaystyle 7.5$"
      ],
      "text/plain": [
       "7.50000000000000"
      ]
     },
     "metadata": {},
     "output_type": "display_data"
    },
    {
     "data": {
      "text/latex": [
       "$\\displaystyle \\left[ 0, \\  0.625, \\  1.25, \\  1.875, \\  2.5, \\  3.125, \\  3.75, \\  4.375, \\  5.0, \\  5.625, \\  6.25, \\  6.875, \\  7.5\\right]$"
      ],
      "text/plain": [
       "[0, 0.625, 1.25, 1.875, 2.5, 3.125, 3.75, 4.375, 5.0, 5.625, 6.25, 6.875, 7.5]"
      ]
     },
     "metadata": {},
     "output_type": "display_data"
    }
   ],
   "source": [
    "display(beattimecodes_up_ramp[12].n())\n",
    "display([i.n() for i in beattimecodes_up_ramp])"
   ]
  },
  {
   "cell_type": "code",
   "execution_count": 16,
   "metadata": {
    "colab": {
     "base_uri": "https://localhost:8080/",
     "height": 0
    },
    "id": "2Y_GIxPUJHpY",
    "outputId": "809afcbc-1ead-4eca-a2ae-2eed81669239"
   },
   "outputs": [
    {
     "data": {
      "text/html": [
       "\n",
       "  <style>\n",
       "    pre {\n",
       "        white-space: pre-wrap;\n",
       "    }\n",
       "  </style>\n",
       "  "
      ],
      "text/plain": [
       "<IPython.core.display.HTML object>"
      ]
     },
     "metadata": {},
     "output_type": "display_data"
    },
    {
     "data": {
      "text/latex": [
       "$\\displaystyle \\left\\{7.63576\\right\\}$"
      ],
      "text/plain": [
       "{7.63576}"
      ]
     },
     "execution_count": 16,
     "metadata": {},
     "output_type": "execute_result"
    }
   ],
   "source": [
    "# Timecode at beat 20\n",
    "solveset(tempoeq.subs({a: start_tempo, b: end_tempo, c: length_in_beats, s: 20}), t).n(\n",
    "    6\n",
    ")"
   ]
  },
  {
   "cell_type": "markdown",
   "metadata": {
    "id": "DzLdtjCVnqxG"
   },
   "source": [
    "## Down Ramp"
   ]
  },
  {
   "cell_type": "code",
   "execution_count": 17,
   "metadata": {
    "colab": {
     "base_uri": "https://localhost:8080/",
     "height": 0
    },
    "id": "BQi6KWgwKdcT",
    "outputId": "b836b9ed-f9b1-4068-ebdd-0af92fa67eba"
   },
   "outputs": [
    {
     "data": {
      "text/html": [
       "\n",
       "  <style>\n",
       "    pre {\n",
       "        white-space: pre-wrap;\n",
       "    }\n",
       "  </style>\n",
       "  "
      ],
      "text/plain": [
       "<IPython.core.display.HTML object>"
      ]
     },
     "metadata": {},
     "output_type": "display_data"
    },
    {
     "data": {
      "text/latex": [
       "$\\displaystyle \\int\\limits_{0}^{20} \\frac{1}{\\frac{a_{0}}{60} + \\frac{x \\left(- \\frac{a_{0}}{60} + \\frac{b_{0}}{60}\\right)}{c_{0}}}\\, dx + \\int\\limits_{0}^{s} \\frac{1}{\\frac{b_{0}}{60} + \\frac{x \\left(- \\frac{b_{0}}{60} + \\frac{b_{1}}{60}\\right)}{c_{1}}}\\, dx = t$"
      ],
      "text/plain": [
       "20                         s                          \n",
       "⌠                          ⌠                          \n",
       "⎮          1               ⎮         1                \n",
       "⎮  ────────────────── dx + ⎮ ────────────────── dx = t\n",
       "⎮         ⎛  a₀   b₀⎞      ⎮        ⎛  b₀   b₁⎞       \n",
       "⎮       x⋅⎜- ── + ──⎟      ⎮      x⋅⎜- ── + ──⎟       \n",
       "⎮  a₀     ⎝  60   60⎠      ⎮ b₀     ⎝  60   60⎠       \n",
       "⎮  ── + ─────────────      ⎮ ── + ─────────────       \n",
       "⎮  60         c₀           ⎮ 60         c₁            \n",
       "⌡                          ⌡                          \n",
       "0                          0                          "
      ]
     },
     "metadata": {},
     "output_type": "display_data"
    },
    {
     "data": {
      "text/latex": [
       "$\\displaystyle \\frac{60 c_{0} \\log{\\left(- a_{0} c_{0} \\right)}}{a_{0} - b_{0}} - \\frac{60 c_{0} \\log{\\left(- a_{0} c_{0} + 20 a_{0} - 20 b_{0} \\right)}}{a_{0} - b_{0}} + \\frac{60 c_{1} \\log{\\left(- b_{0} c_{1} \\right)}}{b_{0} - b_{1}} - \\frac{60 c_{1} \\log{\\left(- b_{0} c_{1} + s \\left(b_{0} - b_{1}\\right) \\right)}}{b_{0} - b_{1}} = t$"
      ],
      "text/plain": [
       "60⋅c₀⋅log(-a₀⋅c₀)   60⋅c₀⋅log(-a₀⋅c₀ + 20⋅a₀ - 20⋅b₀)   60⋅c₁⋅log(-b₀⋅c₁)   60\n",
       "───────────────── - ───────────────────────────────── + ───────────────── - ──\n",
       "     a₀ - b₀                     a₀ - b₀                     b₀ - b₁          \n",
       "\n",
       "⋅c₁⋅log(-b₀⋅c₁ + s⋅(b₀ - b₁))    \n",
       "───────────────────────────── = t\n",
       "          b₀ - b₁                "
      ]
     },
     "metadata": {},
     "output_type": "display_data"
    }
   ],
   "source": [
    "# b1 = end tempo of down ramp\n",
    "# c1 = number of beats in down ramp\n",
    "tempoeq2_not_done = Eq(\n",
    "    Integral(1 / (a / 60 + (x / c) * (b / 60 - a / 60)), (x, 0, 20))\n",
    "    + Integral(1 / (b / 60 + (x / c1) * (b1 / 60 - b / 60)), (x, 0, s)),\n",
    "    t,\n",
    ")\n",
    "display(tempoeq2_not_done)\n",
    "tempoeq2 = tempoeq2_not_done.doit()\n",
    "display(tempoeq2)"
   ]
  },
  {
   "cell_type": "code",
   "execution_count": 18,
   "metadata": {
    "colab": {
     "base_uri": "https://localhost:8080/",
     "height": 0
    },
    "id": "ybp5oRGJNS7X",
    "outputId": "ff0e8169-9dad-41dd-941f-90a19b83ec9d"
   },
   "outputs": [
    {
     "data": {
      "text/html": [
       "\n",
       "  <style>\n",
       "    pre {\n",
       "        white-space: pre-wrap;\n",
       "    }\n",
       "  </style>\n",
       "  "
      ],
      "text/plain": [
       "<IPython.core.display.HTML object>"
      ]
     },
     "metadata": {},
     "output_type": "display_data"
    },
    {
     "data": {
      "text/latex": [
       "$\\displaystyle \\frac{64}{3} - \\frac{80 \\cdot 2^{\\frac{7}{16}} \\cdot 5^{\\frac{9}{16}} e^{- \\frac{3 t}{16}}}{3}$"
      ],
      "text/plain": [
       "                     -3⋅t \n",
       "                     ─────\n",
       "         7/16  9/16    16 \n",
       "64   80⋅2    ⋅5    ⋅ℯ     \n",
       "── - ─────────────────────\n",
       "3              3          "
      ]
     },
     "metadata": {},
     "output_type": "display_data"
    },
    {
     "data": {
      "text/latex": [
       "$\\displaystyle \\left[ 8.125, \\  8.75, \\  9.375, \\  10.0, \\  10.625, \\  11.25, \\  11.875, \\  12.5, \\  13.125, \\  13.75, \\  14.375, \\  15.0\\right]$"
      ],
      "text/plain": [
       "[8.125, 8.75, 9.375, 10.0, 10.625, 11.25, 11.875, 12.5, 13.125, 13.75, 14.375,\n",
       " 15.0]"
      ]
     },
     "metadata": {},
     "output_type": "display_data"
    },
    {
     "name": "stdout",
     "output_type": "stream",
     "text": [
      "13 1.86990 1.8\n",
      "14 4.02220 4\n",
      "15 5.93649 6\n",
      "16 7.63910 7.666666666666667\n",
      "17 9.15343 9.2\n",
      "18 10.5003 10.5\n",
      "19 11.6982 11.666666666666666\n",
      "20 12.7637 12.75\n",
      "21 13.7113 13.75\n",
      "22 14.5542 14.6\n",
      "23 15.3038 15.333333333333334\n",
      "24 15.9706 16\n"
     ]
    }
   ],
   "source": [
    "s2_solved = solveset(tempoeq2, s).args[0]\n",
    "# display(s2_solved.args[0])\n",
    "s2_solved_subbed = s2_solved.subs({a: 96, b: 240, c: 20, b1: 60, c1: 16})\n",
    "display(s2_solved_subbed)\n",
    "# values for slowing down ramp\n",
    "beats_down_ramp = range(13, floor(16 / beatlength))\n",
    "beattimecodes_down_ramp = [beatlength * i for i in beats_down_ramp]\n",
    "display([i.n() for i in beattimecodes_down_ramp])\n",
    "outbeats_down_ramp = [\n",
    "    s2_solved_subbed.n(6, {t: i}, chop=True) for i in beattimecodes_down_ramp\n",
    "]\n",
    "for i in range(len(outbeats_down_ramp)):\n",
    "    print(\n",
    "        beats_down_ramp[i], outbeats_down_ramp[i], custom_round(outbeats_down_ramp[i])\n",
    "    )  # beat values (from start of ramp)"
   ]
  },
  {
   "cell_type": "code",
   "execution_count": 19,
   "metadata": {
    "colab": {
     "base_uri": "https://localhost:8080/",
     "height": 0
    },
    "id": "JIHGjDRby1QH",
    "outputId": "79a6eaa9-349c-437a-9809-e80a35f0e9a6"
   },
   "outputs": [
    {
     "data": {
      "text/html": [
       "\n",
       "  <style>\n",
       "    pre {\n",
       "        white-space: pre-wrap;\n",
       "    }\n",
       "  </style>\n",
       "  "
      ],
      "text/plain": [
       "<IPython.core.display.HTML object>"
      ]
     },
     "metadata": {},
     "output_type": "display_data"
    },
    {
     "data": {
      "text/latex": [
       "$\\displaystyle 15.0293$"
      ],
      "text/plain": [
       "15.0293"
      ]
     },
     "execution_count": 19,
     "metadata": {},
     "output_type": "execute_result"
    }
   ],
   "source": [
    "# total length of both ramps in seconds:\n",
    "solveset(tempoeq2, t).args[0].subs({a: 96, b: 240, c: 20, b1: 60, c1: 16, s: 16}).n(6)"
   ]
  },
  {
   "cell_type": "markdown",
   "metadata": {
    "id": "lc5ieYY8Ey2_"
   },
   "source": [
    "# New section"
   ]
  },
  {
   "cell_type": "code",
   "execution_count": 20,
   "metadata": {
    "colab": {
     "base_uri": "https://localhost:8080/",
     "height": 0
    },
    "id": "7rdfHD4lKfef",
    "outputId": "0fabcf6c-1fe5-46f7-c3f0-0917c4b148e1"
   },
   "outputs": [
    {
     "data": {
      "text/html": [
       "\n",
       "  <style>\n",
       "    pre {\n",
       "        white-space: pre-wrap;\n",
       "    }\n",
       "  </style>\n",
       "  "
      ],
      "text/plain": [
       "<IPython.core.display.HTML object>"
      ]
     },
     "metadata": {},
     "output_type": "display_data"
    },
    {
     "data": {
      "text/latex": [
       "$\\displaystyle 39.5500423920519$"
      ],
      "text/plain": [
       "39.5500423920519"
      ]
     },
     "execution_count": 20,
     "metadata": {},
     "output_type": "execute_result"
    }
   ],
   "source": [
    "# String accel section length in seconds\n",
    "ramp(60, 180, 9 * 4, 9 * 4).doit() * 2"
   ]
  },
  {
   "cell_type": "markdown",
   "metadata": {
    "id": "WU-kOg_dEI0Z"
   },
   "source": [
    "# Tempo relations in piece"
   ]
  },
  {
   "cell_type": "code",
   "execution_count": 21,
   "metadata": {
    "colab": {
     "base_uri": "https://localhost:8080/",
     "height": 17
    },
    "id": "gNQjd66b3FG4",
    "outputId": "cf5c65d8-cc2e-49df-c950-c978204933dc"
   },
   "outputs": [
    {
     "data": {
      "text/html": [
       "\n",
       "  <style>\n",
       "    pre {\n",
       "        white-space: pre-wrap;\n",
       "    }\n",
       "  </style>\n",
       "  "
      ],
      "text/plain": [
       "<IPython.core.display.HTML object>"
      ]
     },
     "metadata": {},
     "output_type": "display_data"
    }
   ],
   "source": [
    "from collections.abc import Iterable\n",
    "\n",
    "\n",
    "def separate(item):\n",
    "    if isinstance(item, Iterable) and not isinstance(item, (str, bytes)):\n",
    "        return item\n",
    "    else:\n",
    "        return item, \"\""
   ]
  },
  {
   "cell_type": "code",
   "execution_count": 27,
   "metadata": {
    "colab": {
     "base_uri": "https://localhost:8080/",
     "height": 296
    },
    "id": "ZfCvs7-HEH_B",
    "outputId": "b888a0db-d696-49c5-abe0-25e44c994cb6"
   },
   "outputs": [
    {
     "data": {
      "text/html": [
       "\n",
       "  <style>\n",
       "    pre {\n",
       "        white-space: pre-wrap;\n",
       "    }\n",
       "  </style>\n",
       "  "
      ],
      "text/plain": [
       "<IPython.core.display.HTML object>"
      ]
     },
     "metadata": {},
     "output_type": "display_data"
    },
    {
     "name": "stdout",
     "output_type": "stream",
     "text": [
      "<class 'tuple'>\n",
      "equations:\n",
      "\n"
     ]
    },
    {
     "data": {
      "text/latex": [
       "$\\displaystyle \\left\\{ t : \\frac{5 t_{1}}{4}, \\  t_{1} : 128, \\  t_{2} : \\frac{3 t_{1}}{4}, \\  t_{3} : \\frac{5 t_{2}}{2}, \\  t_{4} : \\frac{t_{3}}{4}, \\  t_{5} : 3 t_{4}, \\  t_{6} : \\frac{t_{5}}{2}\\right\\}$"
      ],
      "text/plain": [
       "⎧   5⋅t₁               3⋅t₁      5⋅t₂      t₃                t₅⎫\n",
       "⎨t: ────, t₁: 128, t₂: ────, t₃: ────, t₄: ──, t₅: 3⋅t₄, t₆: ──⎬\n",
       "⎩    4                  4         2        4                 2 ⎭"
      ]
     },
     "metadata": {},
     "output_type": "display_data"
    },
    {
     "name": "stdout",
     "output_type": "stream",
     "text": [
      "\n",
      "resultant tempi: \n",
      "------------------------------------\n",
      "t \t|  160. \t|  start\n",
      "t1 \t|  128. \t|  \n",
      "t2 \t|  96.0 \t|  wind accel + rit\n",
      "t3 \t|  240. \t|  \n",
      "t4 \t|  60.0 \t|  \n",
      "t5 \t|  180. \t|  \n",
      "t1 \t|  128. \t|  \n",
      "t5 \t|  180. \t|  middle\n",
      "t6 \t|  90.0 \t|  \n"
     ]
    }
   ],
   "source": [
    "tempolist_combined = (\n",
    "    (t, \"start\"),\n",
    "    t1,\n",
    "    (t2, \"wind accel + rit\"),\n",
    "    t3,\n",
    "    t4,\n",
    "    t5,\n",
    "    t1,\n",
    "    (t5, \"middle\"),\n",
    "    t6,\n",
    ")\n",
    "tempolist, sections = zip(*(separate(i) for i in tempolist_combined))\n",
    "tempo_equations = {\n",
    "    t: t1 * 5 / 4,\n",
    "    t1: 128,\n",
    "    t2: t1 * 3 / 4,\n",
    "    t3: t2 * 5 / 2,\n",
    "    t4: t3 * 1 / 4,\n",
    "    t5: t4 * 3,\n",
    "    t6: t5 / 2,\n",
    "}\n",
    "print(\"equations:\\n\")\n",
    "display(tempo_equations)\n",
    "print(\"\\nresultant tempi:\", \"\\n------------------------------------\")\n",
    "for i in range(len(tempolist)):\n",
    "    x = tempolist[i]\n",
    "    print(x, \"\\t| \", N(x, 3, subs=tempo_equations), \"\\t| \", sections[i])"
   ]
  },
  {
   "cell_type": "markdown",
   "metadata": {
    "id": "n_Qr0YHCWzKZ"
   },
   "source": [
    "# Middle Section"
   ]
  },
  {
   "cell_type": "code",
   "execution_count": 23,
   "metadata": {
    "colab": {
     "base_uri": "https://localhost:8080/",
     "height": 364
    },
    "id": "0MdjDJsYWysk",
    "outputId": "c45b9493-46fa-48f0-ed06-617fa2b3d2e7"
   },
   "outputs": [
    {
     "data": {
      "text/html": [
       "\n",
       "  <style>\n",
       "    pre {\n",
       "        white-space: pre-wrap;\n",
       "    }\n",
       "  </style>\n",
       "  "
      ],
      "text/plain": [
       "<IPython.core.display.HTML object>"
      ]
     },
     "metadata": {},
     "output_type": "display_data"
    },
    {
     "data": {
      "text/latex": [
       "$\\displaystyle f{\\left(180,90,29,s,a_{0} \\right)} = t$"
      ],
      "text/plain": [
       "f(180, 90, 29, s, a₀) = t"
      ]
     },
     "metadata": {},
     "output_type": "display_data"
    },
    {
     "name": "stdout",
     "output_type": "stream",
     "text": [
      "length of one downwards ramp in seconds:\n"
     ]
    },
    {
     "data": {
      "text/latex": [
       "$\\displaystyle 13.4$"
      ],
      "text/plain": [
       "13.4"
      ]
     },
     "metadata": {},
     "output_type": "display_data"
    },
    {
     "name": "stdout",
     "output_type": "stream",
     "text": [
      "\n",
      "length of a crotchet at 180bpm:\n",
      "\n",
      "beat\t| length (beats) \n",
      "-----------------------------\n",
      "0 \t|  0.991\n",
      "7.25 \t|  0.868\n",
      "14.5 \t|  0.744\n",
      "21.75 \t|  0.620\n",
      "28 \t|  0.513\n",
      "\n",
      "\n",
      "proportion\t| beat\t\t| time \n",
      "-----------------------------------------------\n",
      "0.25 \t\t| beat 9.23 \t| 3.35 seconds\n",
      "0.5 \t\t| beat 17.0 \t| 6.70 seconds\n",
      "0.75 \t\t| beat 23.5 \t| 10.1 seconds\n"
     ]
    }
   ],
   "source": [
    "# downwards ramp\n",
    "middle_ramp_1_total_length = 5 + 4 + 4 + 5 + 4 + 3 + 4\n",
    "middle_ramp_1_f = Eq(f(180, 90, middle_ramp_1_total_length, s, a), t)\n",
    "display(middle_ramp_1_f)\n",
    "middle_ramp_1 = middle_ramp_1_f.replace(f, ramp).doit()\n",
    "print(\"length of one downwards ramp in seconds:\")\n",
    "middle_ramp_1_length_seconds = solveset(\n",
    "    middle_ramp_1.subs({s: middle_ramp_1_total_length, a: 0}), t\n",
    ").args[0]\n",
    "display(middle_ramp_1_length_seconds.n(3))\n",
    "\n",
    "print(\n",
    "    \"\\nlength of a crotchet at 180bpm:\\n\\nbeat\\t| length (beats)\",\n",
    "    \"\\n-----------------------------\",\n",
    ")\n",
    "crotchet_in_seconds = S(60) / 180\n",
    "crotchet_in_beats = solveset(middle_ramp_1.subs(t, crotchet_in_seconds), s).args[0] - a\n",
    "beats_to_inspect = [\n",
    "    0,\n",
    "    middle_ramp_1_total_length * 0.25,\n",
    "    middle_ramp_1_total_length * 0.5,\n",
    "    middle_ramp_1_total_length * 0.75,\n",
    "    middle_ramp_1_total_length - 1,\n",
    "]\n",
    "for location in (\n",
    "    (i, crotchet_in_beats.n(3, {a: i}, chop=True)) for i in beats_to_inspect\n",
    "):\n",
    "    print(location[0], \"\\t| \", location[1])\n",
    "\n",
    "\n",
    "print(\n",
    "    \"\\n\\nproportion\\t| beat\\t\\t| time\",\n",
    "    \"\\n-----------------------------------------------\",\n",
    ")\n",
    "for i in [0.25, 0.5, 0.75]:\n",
    "    location_seconds = (i * middle_ramp_1_length_seconds).n(3)\n",
    "    location = solveset(middle_ramp_1.subs({t: location_seconds, a: 0}), s).args[0].n(3)\n",
    "    print(i, \"\\t\\t| beat\", location, \"\\t|\", location_seconds, \"seconds\")"
   ]
  }
 ],
 "metadata": {
  "colab": {
   "authorship_tag": "ABX9TyOwdnFU7wfUODsQB+ScmVSR",
   "collapsed_sections": [
    "VSyKJN8dnb6j",
    "JoVSpR7pnju0",
    "dzxO9ZT8nmak",
    "DzLdtjCVnqxG",
    "lc5ieYY8Ey2_"
   ],
   "include_colab_link": true,
   "name": "Tempos",
   "provenance": []
  },
  "kernelspec": {
   "display_name": "Python (multi-group-venv)",
   "language": "python",
   "name": "multi-group-venv"
  },
  "language_info": {
   "codemirror_mode": {
    "name": "ipython",
    "version": 3
   },
   "file_extension": ".py",
   "mimetype": "text/x-python",
   "name": "python",
   "nbconvert_exporter": "python",
   "pygments_lexer": "ipython3",
   "version": "3.9.3"
  },
  "toc": {
   "base_numbering": 1,
   "nav_menu": {
    "height": "153px",
    "width": "263px"
   },
   "number_sections": true,
   "sideBar": true,
   "skip_h1_title": false,
   "title_cell": "Table of Contents",
   "title_sidebar": "Contents",
   "toc_cell": false,
   "toc_position": {
    "height": "calc(100% - 180px)",
    "left": "10px",
    "top": "150px",
    "width": "187.594px"
   },
   "toc_section_display": true,
   "toc_window_display": true
  },
  "toc-autonumbering": false,
  "toc-showcode": false,
  "toc-showmarkdowntxt": false,
  "toc-showtags": false
 },
 "nbformat": 4,
 "nbformat_minor": 4
}
